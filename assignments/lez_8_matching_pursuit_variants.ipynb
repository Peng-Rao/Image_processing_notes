{
 "cells": [
  {
   "cell_type": "code",
   "execution_count": null,
   "metadata": {
    "id": "CZTo1fTLheAO"
   },
   "outputs": [],
   "source": [
    "import numpy as np\n",
    "from matplotlib import pyplot as plt\n",
    "from scipy.fftpack import idct\n",
    "\n",
    "%matplotlib inline\n",
    "%config InlineBackend.figure_format='retina'"
   ]
  },
  {
   "cell_type": "markdown",
   "metadata": {
    "id": "7j9pcXTvFl_h"
   },
   "source": [
    "Variable initialization\n"
   ]
  },
  {
   "cell_type": "code",
   "execution_count": null,
   "metadata": {
    "id": "u7PgrQa4Fkln"
   },
   "outputs": [],
   "source": [
    "M = 32  # signal dimension\n",
    "N = 2 * M  # number of atoms in the expansion\n",
    "\n",
    "C = np.zeros(\n",
    "    (M, M)\n",
    ")  # matrix containing the standard basis (a kronecker delta in each column)\n",
    "DCT = np.zeros(\n",
    "    (M, M)\n",
    ")  # matrix containing the DCT basis (a DCT function in each column)"
   ]
  },
  {
   "cell_type": "markdown",
   "metadata": {
    "id": "-NB1-MvmFsot"
   },
   "source": [
    "Generate the 1D-DCT basis\n"
   ]
  },
  {
   "cell_type": "code",
   "execution_count": null,
   "metadata": {
    "id": "Rey7kIlUF22r"
   },
   "outputs": [],
   "source": [
    "for i in range(M):\n",
    "    DCT[:, i] = idct(np.eye(M)[:, i], type=2, norm=\"ortho\")  # DCT basis"
   ]
  },
  {
   "cell_type": "markdown",
   "metadata": {
    "id": "xJV-_dFw1XCf"
   },
   "source": [
    "Generating the 1-D canonical basis\n"
   ]
  },
  {
   "cell_type": "code",
   "execution_count": null,
   "metadata": {
    "id": "NzxgsbAn1TYl"
   },
   "outputs": [],
   "source": [
    "for i in range(M):\n",
    "    C[:, i] = np.eye(M)[:, i]"
   ]
  },
  {
   "cell_type": "markdown",
   "metadata": {
    "id": "ps3YDsYVBlG9"
   },
   "source": [
    "Define the dictionary $D = [DCT, C]$\n"
   ]
  },
  {
   "cell_type": "code",
   "execution_count": null,
   "metadata": {
    "id": "dj_bmbLx1Y6J"
   },
   "outputs": [],
   "source": [
    "D = np.hstack((DCT, C))\n",
    "\n",
    "plt.figure(figsize=(10, 10))\n",
    "plt.imshow(D)\n",
    "plt.title(f\"Our dictionary M = {M}, N = {N}\")"
   ]
  },
  {
   "cell_type": "markdown",
   "metadata": {
    "id": "Cq78PWSDFw7G"
   },
   "source": [
    "## Generate a signal that is sparse w.r.t. $D$\n",
    "\n",
    "To this purpose add a spike to the sum of few DCT atoms, i.e., add a spike to $\\mathbf{s}$ that is sparse w.r.t. $C$. Bear in mind that the spike is to be considered a signal to be reconstructed, rather than noise\n"
   ]
  },
  {
   "cell_type": "code",
   "execution_count": null,
   "metadata": {
    "id": "RWfXEyuaxAlj"
   },
   "outputs": [],
   "source": [
    "L = 4\n",
    "sigma_noise = 0.2"
   ]
  },
  {
   "cell_type": "markdown",
   "metadata": {
    "id": "kui72O2dw3xc"
   },
   "source": [
    "Randomly define the coefficients of a sparse representation w.r.t. $DCT$ (make sure the nonzero coefficients are sufficiently large)\n"
   ]
  },
  {
   "cell_type": "code",
   "execution_count": null,
   "metadata": {
    "id": "PHuWhKkwFdIR"
   },
   "outputs": [],
   "source": [
    "x0 = np.zeros(N)\n",
    "nonzero_idx = np.random.choice(\n",
    "    M, L, replace=False\n",
    ")  # choose L unique indices in DCT part\n",
    "x0[nonzero_idx] = np.random.randn(L) * 2 + np.random.choice([-1, 1], L) * 3"
   ]
  },
  {
   "cell_type": "markdown",
   "metadata": {
    "id": "-fDtRB_B2FsY"
   },
   "source": [
    "Choose spike location\n"
   ]
  },
  {
   "cell_type": "code",
   "execution_count": null,
   "metadata": {
    "id": "5fej2dZ72HT6"
   },
   "outputs": [],
   "source": [
    "spikeLocation = np.random.randint(M, N)\n",
    "x0[spikeLocation] += -10"
   ]
  },
  {
   "cell_type": "markdown",
   "metadata": {
    "id": "yj3t4oWxwpOH"
   },
   "source": [
    "Synthetize the corresponding signal in the signal domain and add noise\n"
   ]
  },
  {
   "cell_type": "code",
   "execution_count": null,
   "metadata": {
    "id": "yOPV-2k9wv7O"
   },
   "outputs": [],
   "source": [
    "s0 = D @ x0\n",
    "s = s0 + sigma_noise * np.random.normal(scale=2, size=M)"
   ]
  },
  {
   "cell_type": "markdown",
   "metadata": {
    "id": "KRBSmSG5GIPe"
   },
   "source": [
    "Plot the sparse signal\n"
   ]
  },
  {
   "cell_type": "code",
   "execution_count": null,
   "metadata": {
    "id": "m1NfJRxKGKFu"
   },
   "outputs": [],
   "source": [
    "LN_WDT = 2\n",
    "MRK_SZ = 10\n",
    "\n",
    "plt.figure(figsize=(6, 6))\n",
    "plt.plot(s0, \"b--\", linewidth=LN_WDT + 1)\n",
    "plt.plot(s, \"r--x\", linewidth=LN_WDT - 1)\n",
    "plt.title(f\"Sparse signal in DCT domain (L = {L:.0f})\")\n",
    "plt.legend([\"original\", \"noisy\"])\n"
   ]
  },
  {
   "cell_type": "markdown",
   "metadata": {
    "id": "Y4O1zq_JGPeL"
   },
   "source": [
    "## Orthogonal Matching Pursuit\n",
    "\n",
    "Initialize all the variables, including the residual, namely the components of the signals that can not be represented (here the signal at the very beginning)\n"
   ]
  },
  {
   "cell_type": "code",
   "execution_count": null,
   "metadata": {
    "id": "9OtzbfA_GRIA"
   },
   "outputs": [],
   "source": [
    "x_OMP = np.zeros(N)\n",
    "\n",
    "# residual\n",
    "r = s.copy()\n",
    "\n",
    "# support set\n",
    "omega = []\n",
    "\n",
    "MINIMUM_NORM_RES = 0.1"
   ]
  },
  {
   "cell_type": "markdown",
   "metadata": {
    "id": "UDzCdJkvxazx"
   },
   "source": [
    "OMP loop starts.\n",
    "\n",
    "Stoppint criteria: continue until the sparsity of the representation reaches L\n"
   ]
  },
  {
   "cell_type": "code",
   "execution_count": null,
   "metadata": {
    "id": "_smviSBHxeMY"
   },
   "outputs": [],
   "source": [
    "while np.count_nonzero(x_OMP) < L and np.linalg.norm(r) > MINIMUM_NORM_RES:\n",
    "    # SWEEP STEP: look for the column of D that matches at best noisySignal\n",
    "    # compute the residual w.r.t. each column of D\n",
    "    e = np.zeros(N)\n",
    "    for j in range(N):\n",
    "        e[j] = D[:, j].T @ r\n",
    "\n",
    "    # find the column of D that matches at best r\n",
    "    jStar = np.argmax(np.abs(e))\n",
    "\n",
    "    # UPDATE the support set with the jStar coefficient\n",
    "    omega.append(jStar)\n",
    "\n",
    "    # update the coefficients by solving the least square problem min ||D_omega x - s ||\n",
    "    D_omega = D[:, omega]\n",
    "    x_omega = np.linalg.lstsq(D_omega, s, rcond=None)[0]\n",
    "    x_OMP = np.zeros(N)\n",
    "    x_OMP[omega] = x_omega\n",
    "\n",
    "    # update the residual\n",
    "    r = s - D_omega @ x_omega"
   ]
  },
  {
   "cell_type": "markdown",
   "metadata": {
    "id": "o_0Wg_caxo6Y"
   },
   "source": [
    "SYNTHESIS: reconstruct the signal, by inverting the transformation to reconstruct the signal\n"
   ]
  },
  {
   "cell_type": "code",
   "execution_count": null,
   "metadata": {
    "id": "lTZ2OY_Pxrix"
   },
   "outputs": [],
   "source": [
    "s_hat_OMP = D @ x_OMP"
   ]
  },
  {
   "cell_type": "markdown",
   "metadata": {
    "id": "QtauqPDBChHm"
   },
   "source": [
    "Show the result\n"
   ]
  },
  {
   "cell_type": "code",
   "execution_count": null,
   "metadata": {
    "id": "WpUm6mJ2xxxo"
   },
   "outputs": [],
   "source": [
    "LN_WDT = 2\n",
    "MRK_SZ = 10\n",
    "\n",
    "fix, ax = plt.subplots(1, 2, figsize=(16, 8))\n",
    "ax[0].plot(s0, \"b-o\", linewidth=LN_WDT + 1)\n",
    "ax[0].plot(s, \"r-x\", linewidth=LN_WDT - 1)\n",
    "ax[0].plot(s_hat_OMP, \"m-\", linewidth=LN_WDT)\n",
    "ax[0].set_title(f\"Sparse signal w.r.t D (L = {L:.0f})\")\n",
    "ax[0].legend([\"original (s0)\", \"noisy (s)\", \"MP estimate\"])\n",
    "\n",
    "ax[1].stem(x0, linefmt=\"b-\", markerfmt=\"C0o\")\n",
    "ax[1].stem(x_OMP, linefmt=\"m-.\", markerfmt=\"C1o\")\n",
    "ax[1].set_title(\"Coefficients\")\n",
    "ax[1].legend([\"coefficients of s0 (x0)\", \"coefficients of s_hat (x_hat)\"])"
   ]
  },
  {
   "cell_type": "markdown",
   "metadata": {
    "id": "1SBgScySIOIf"
   },
   "source": [
    "## Least Squares Orthogonal Matching Pursuit\n",
    "\n",
    "Initialize all the variables, including the residual, namely the components of the signals that can not be represented (here the signal at the very beginning)\n"
   ]
  },
  {
   "cell_type": "code",
   "execution_count": null,
   "metadata": {
    "id": "wHzB_2XNIOIh"
   },
   "outputs": [],
   "source": [
    "x_LSOMP = np.zeros(N)\n",
    "\n",
    "# residual\n",
    "r = s.copy()\n",
    "\n",
    "# support set\n",
    "omega = []\n",
    "\n",
    "MINIMUM_NORM_RES = 0.1"
   ]
  },
  {
   "cell_type": "markdown",
   "metadata": {
    "id": "wU2aEYMWIOIi"
   },
   "source": [
    "LSOMP loop starts.\n",
    "\n",
    "Stoppint criteria: continue until the sparsity of the representation reaches L\n"
   ]
  },
  {
   "cell_type": "code",
   "execution_count": null,
   "metadata": {
    "id": "ofzPhdbjIOIi"
   },
   "outputs": [],
   "source": [
    "while np.count_nonzero(x_LSOMP) < L and np.linalg.norm(r) > MINIMUM_NORM_RES:\n",
    "    # SWEEP STEP: find the best column by solving the LS problem\n",
    "    if len(omega) == 0:\n",
    "        # at the first iteration perform the usual sweep step\n",
    "        e = np.zeros(N)\n",
    "        for j in range(N):\n",
    "            e[j] = np.linalg.norm(r - np.dot(D[:, j], r) * D[:, j]) ** 2\n",
    "        jStar = np.argmin(e)\n",
    "        omega.append(jStar)\n",
    "        x_LSOMP = np.zeros(N)\n",
    "        x_LSOMP[jStar] = np.dot(D[:, jStar], s)\n",
    "    else:\n",
    "        # perform the sweep step by solving the LS problem\n",
    "        best_residual = np.inf\n",
    "        jStar = -1\n",
    "\n",
    "        for j in range(N):\n",
    "            if j not in omega:  # only consider atoms not already in support\n",
    "                # Try adding atom j to current support\n",
    "                temp_omega = omega + [j]\n",
    "                D_temp = D[:, temp_omega]\n",
    "                # Solve LS problem for this expanded support\n",
    "                x_temp = np.linalg.lstsq(D_temp, s, rcond=None)[0]\n",
    "                # Compute residual\n",
    "                residual_norm = np.linalg.norm(s - D_temp @ x_temp) ** 2\n",
    "\n",
    "                if residual_norm < best_residual:\n",
    "                    best_residual = residual_norm\n",
    "                    jStar = j\n",
    "\n",
    "        # UPDATE the support set with the jStar coefficient\n",
    "        omega.append(jStar)\n",
    "\n",
    "        # update the coefficients by solving LS over full support\n",
    "        D_omega = D[:, omega]\n",
    "        x_omega = np.linalg.lstsq(D_omega, s, rcond=None)[0]\n",
    "        x_LSOMP = np.zeros(N)\n",
    "        x_LSOMP[omega] = x_omega\n",
    "\n",
    "    # update the residual\n",
    "    D_omega = D[:, omega]\n",
    "    r = s - D_omega @ x_LSOMP[omega]"
   ]
  },
  {
   "cell_type": "markdown",
   "metadata": {
    "id": "adHl4lGAIOIj"
   },
   "source": [
    "SYNTHESIS: reconstruct the signal, by inverting the transformation to reconstruct the signal\n"
   ]
  },
  {
   "cell_type": "code",
   "execution_count": null,
   "metadata": {
    "id": "xj9TlXM7IOIk"
   },
   "outputs": [],
   "source": [
    "s_hat_LSOMP = D @ x_LSOMP"
   ]
  },
  {
   "cell_type": "markdown",
   "metadata": {
    "id": "SUrVtHT1IOIk"
   },
   "source": [
    "Show the result\n"
   ]
  },
  {
   "cell_type": "code",
   "execution_count": null,
   "metadata": {
    "id": "sKJfPlhlIOIl"
   },
   "outputs": [],
   "source": [
    "LN_WDT = 2\n",
    "MRK_SZ = 10\n",
    "\n",
    "fix, ax = plt.subplots(1, 2, figsize=(16, 8))\n",
    "ax[0].plot(s0, \"b-o\", linewidth=LN_WDT + 1)\n",
    "ax[0].plot(s, \"r-x\", linewidth=LN_WDT - 1)\n",
    "ax[0].plot(s_hat_LSOMP, \"m-\", linewidth=LN_WDT)\n",
    "ax[0].set_title(f\"Sparse signal w.r.t D (L = {L:.0f})\")\n",
    "ax[0].legend([\"original (s0)\", \"noisy (s)\", \"MP estimate\"])\n",
    "\n",
    "ax[1].stem(x0, linefmt=\"b-\", markerfmt=\"C0o\")\n",
    "ax[1].stem(x_LSOMP, linefmt=\"m-.\", markerfmt=\"C1o\")\n",
    "ax[1].set_title(\"Coefficients\")\n",
    "ax[1].legend([\"coefficients of s0 (x0)\", \"coefficients of s_hat (x_hat)\"])"
   ]
  }
 ],
 "metadata": {
  "colab": {
   "provenance": []
  },
  "kernelspec": {
   "display_name": "Image_processing_notes",
   "language": "python",
   "name": "python3"
  },
  "language_info": {
   "codemirror_mode": {
    "name": "ipython",
    "version": 3
   },
   "file_extension": ".py",
   "mimetype": "text/x-python",
   "name": "python",
   "nbconvert_exporter": "python",
   "pygments_lexer": "ipython3",
   "version": "3.13.4"
  }
 },
 "nbformat": 4,
 "nbformat_minor": 0
}
