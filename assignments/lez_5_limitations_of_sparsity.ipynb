{
 "cells": [
  {
   "cell_type": "code",
   "execution_count": null,
   "metadata": {
    "executionInfo": {
     "elapsed": 365,
     "status": "ok",
     "timestamp": 1741049613909,
     "user": {
      "displayName": "Giacomo",
      "userId": "00738787145430468476"
     },
     "user_tz": -60
    },
    "id": "opwp5eU9E-8f"
   },
   "outputs": [],
   "source": [
    "import numpy as np\n",
    "from matplotlib import pyplot as plt\n",
    "import scipy as sp\n",
    "from scipy.fftpack import idct\n"
   ]
  },
  {
   "cell_type": "markdown",
   "metadata": {
    "id": "7j9pcXTvFl_h"
   },
   "source": [
    "Variable initialization"
   ]
  },
  {
   "cell_type": "code",
   "execution_count": null,
   "metadata": {
    "executionInfo": {
     "elapsed": 2,
     "status": "ok",
     "timestamp": 1741049613916,
     "user": {
      "displayName": "Giacomo",
      "userId": "00738787145430468476"
     },
     "user_tz": -60
    },
    "id": "u7PgrQa4Fkln"
   },
   "outputs": [],
   "source": [
    "N = 32 # signal dimension\n",
    "M = 32 # number of atoms in the span (for basis M = N)\n",
    "\n",
    "C = np.zeros((N, M)) # matrix containing the standard basis (a kronecker delta in each column)\n",
    "D = np.zeros((N, M)) # matrix containing the DCT basis (a DCT function in each column)\n"
   ]
  },
  {
   "cell_type": "markdown",
   "metadata": {
    "id": "-NB1-MvmFsot"
   },
   "source": [
    "Generate the 1D-DCT basis"
   ]
  },
  {
   "cell_type": "code",
   "execution_count": null,
   "metadata": {
    "colab": {
     "base_uri": "https://localhost:8080/",
     "height": 106
    },
    "executionInfo": {
     "elapsed": 7,
     "status": "error",
     "timestamp": 1741049613923,
     "user": {
      "displayName": "Giacomo",
      "userId": "00738787145430468476"
     },
     "user_tz": -60
    },
    "id": "Rey7kIlUF22r",
    "outputId": "244b6f30-edef-4a2e-9db7-28d119528071"
   },
   "outputs": [],
   "source": [
    "for i in range(M):\n",
    "    D[:, i] =\n",
    "\n",
    "plt.figure(figsize=(8,8))\n",
    "plt.imshow(D)\n",
    "plt.title('DCT basis')"
   ]
  },
  {
   "cell_type": "markdown",
   "metadata": {
    "id": "Cq78PWSDFw7G"
   },
   "source": [
    "# Sparsity w.r.t orthonormal dictionary D\n",
    "\n",
    "In this section you will perform denoising of a signal that is *sparse* w.r.t. the orthornormal dictionary $D\\in\\mathbb{R}^{N\\times N}$, i.e., the 1D-DCT dictionary.\n",
    "\n",
    "At first, generate a vector $x_{orig}\\in\\mathbb{R}^N$ that is $L$-sparse, i.e. $\\|x_{orig}\\|_0 = L$. Use this coefficient vector $x_{orig}$, generate a noise-free signal $y\\in\\mathbb{R}^N$ as $y=Dx_{orig}$, and add some Gaussian noise to obtain $s = y + \\eta$.\n",
    "\n",
    "Perform the DCT denoising on the noisy signal $s$ to recover $\\hat y$. Use the Hard Thresholding operator that keeps only the largest $L$ coefficients and evaluate the denoising performance\n"
   ]
  },
  {
   "cell_type": "markdown",
   "metadata": {
    "id": "fjPjQ3evRZM9"
   },
   "source": [
    "Set the sparsity level $L$"
   ]
  },
  {
   "cell_type": "code",
   "execution_count": null,
   "metadata": {
    "executionInfo": {
     "elapsed": 79,
     "status": "aborted",
     "timestamp": 1741049614001,
     "user": {
      "displayName": "Giacomo",
      "userId": "00738787145430468476"
     },
     "user_tz": -60
    },
    "id": "RWfXEyuaxAlj"
   },
   "outputs": [],
   "source": [
    "L = 3"
   ]
  },
  {
   "cell_type": "markdown",
   "metadata": {
    "id": "kui72O2dw3xc"
   },
   "source": [
    "Randomly define the coefficients of a sparse representation $x$ (make sure the nonzero coefficients are sufficiently large)"
   ]
  },
  {
   "cell_type": "code",
   "execution_count": null,
   "metadata": {
    "executionInfo": {
     "elapsed": 632,
     "status": "aborted",
     "timestamp": 1741049614004,
     "user": {
      "displayName": "Giacomo",
      "userId": "00738787145430468476"
     },
     "user_tz": -60
    },
    "id": "PHuWhKkwFdIR"
   },
   "outputs": [],
   "source": [
    "x_orig ="
   ]
  },
  {
   "cell_type": "markdown",
   "metadata": {
    "id": "yj3t4oWxwpOH"
   },
   "source": [
    "Synthetize the corresponding signal in the signal domain and add noise\n"
   ]
  },
  {
   "cell_type": "code",
   "execution_count": null,
   "metadata": {
    "executionInfo": {
     "elapsed": 1,
     "status": "aborted",
     "timestamp": 1741049614006,
     "user": {
      "displayName": "Giacomo",
      "userId": "00738787145430468476"
     },
     "user_tz": -60
    },
    "id": "yOPV-2k9wv7O"
   },
   "outputs": [],
   "source": [
    "y =\n",
    "\n",
    "s ="
   ]
  },
  {
   "cell_type": "markdown",
   "metadata": {
    "id": "KRBSmSG5GIPe"
   },
   "source": [
    "Plot the sparse signal"
   ]
  },
  {
   "cell_type": "code",
   "execution_count": null,
   "metadata": {
    "executionInfo": {
     "elapsed": 663,
     "status": "aborted",
     "timestamp": 1741049614035,
     "user": {
      "displayName": "Giacomo",
      "userId": "00738787145430468476"
     },
     "user_tz": -60
    },
    "id": "m1NfJRxKGKFu"
   },
   "outputs": [],
   "source": [
    "LN_WDT = 2\n",
    "MRK_SZ = 10\n",
    "\n",
    "plt.figure(figsize=(6,6))\n",
    "plt.plot(y, 'b-o', linewidth=LN_WDT+1)\n",
    "plt.plot(s, 'r--x', linewidth=LN_WDT-1)\n",
    "plt.title(f'Sparse signal in DCT domain (L = {L:.0f})')\n",
    "plt.legend(['original (y)', 'noisy (s)'])\n"
   ]
  },
  {
   "cell_type": "markdown",
   "metadata": {
    "id": "Y4O1zq_JGPeL"
   },
   "source": [
    "### Implement the DCT denoising\n",
    "\n",
    "This is expected to be very effective on $s$!\n",
    "\n",
    "**Analysis**: compute the coefficients w.r.t. $D$"
   ]
  },
  {
   "cell_type": "code",
   "execution_count": null,
   "metadata": {
    "executionInfo": {
     "elapsed": 665,
     "status": "aborted",
     "timestamp": 1741049614038,
     "user": {
      "displayName": "Giacomo",
      "userId": "00738787145430468476"
     },
     "user_tz": -60
    },
    "id": "9OtzbfA_GRIA"
   },
   "outputs": [],
   "source": [
    "x ="
   ]
  },
  {
   "cell_type": "markdown",
   "metadata": {
    "id": "UDzCdJkvxazx"
   },
   "source": [
    "**Hard Thresholding**: keep only the $L$ largest coefficients (absolute value)"
   ]
  },
  {
   "cell_type": "code",
   "execution_count": null,
   "metadata": {
    "executionInfo": {
     "elapsed": 666,
     "status": "aborted",
     "timestamp": 1741049614039,
     "user": {
      "displayName": "Giacomo",
      "userId": "00738787145430468476"
     },
     "user_tz": -60
    },
    "id": "_smviSBHxeMY"
   },
   "outputs": [],
   "source": [
    "x_hat ="
   ]
  },
  {
   "cell_type": "markdown",
   "metadata": {
    "id": "o_0Wg_caxo6Y"
   },
   "source": [
    "**Synthesis**: invert the transform"
   ]
  },
  {
   "cell_type": "code",
   "execution_count": null,
   "metadata": {
    "executionInfo": {
     "elapsed": 668,
     "status": "aborted",
     "timestamp": 1741049614041,
     "user": {
      "displayName": "Giacomo",
      "userId": "00738787145430468476"
     },
     "user_tz": -60
    },
    "id": "lTZ2OY_Pxrix"
   },
   "outputs": [],
   "source": [
    "s_hat ="
   ]
  },
  {
   "cell_type": "markdown",
   "metadata": {
    "id": "X1c_yWofxvoV"
   },
   "source": [
    "Plot the results:\n",
    "- are the denoising performance good?\n",
    "- are the original coefficients $x_{orig}$ recovered by $\\hat x$?"
   ]
  },
  {
   "cell_type": "code",
   "execution_count": null,
   "metadata": {
    "executionInfo": {
     "elapsed": 668,
     "status": "aborted",
     "timestamp": 1741049614042,
     "user": {
      "displayName": "Giacomo",
      "userId": "00738787145430468476"
     },
     "user_tz": -60
    },
    "id": "WpUm6mJ2xxxo"
   },
   "outputs": [],
   "source": [
    "fig, ax = plt.subplots(1, 2, figsize=(12,6))\n",
    "ax[0].plot(y, 'b-o', linewidth=LN_WDT+1)\n",
    "ax[0].plot(s, 'r-x', linewidth=LN_WDT-1)\n",
    "ax[0].plot(s_hat, 'm--o', linewidth=LN_WDT)\n",
    "ax[0].set_title(f'Sparse signal in DCT domain (L = {L:.0f})')\n",
    "ax[0].legend(['original (y)', 'noisy (s)', 'hard-thresholded estimate (shat)'])\n",
    "\n",
    "\n",
    "\n",
    "ax[1].plot(x, 'r-x', linewidth=LN_WDT-1)\n",
    "ax[1].stem(x_orig, linefmt='b-', markerfmt='C0o')\n",
    "ax[1].stem(x_hat, linefmt='m-.', markerfmt='C1o')\n",
    "ax[1].set_title('DCT Coefficients')\n",
    "ax[1].legend(['coefficients of s (x)', 'coefficients of y (x_orig)', 'coefficients of s_hat (x_hat)'])\n"
   ]
  },
  {
   "cell_type": "markdown",
   "metadata": {
    "id": "JXF-88C9yQF3"
   },
   "source": [
    "# Sparsity w.r.t redoundant dictionary\n",
    "\n",
    "In this section you will perform the same denoising as in the previous section with the only difference that the signal $s = y + \\eta$ that you will generate is sparse w.r.t. a redoundant dictionary $A=[C, D] \\in\\mathbb{R}^{M \\times N}$, where $C\\in\\mathbb{M\\times M}$ is the matrix representity the canonical basis, and $D\\in\\mathbb{M\\times M}$ is the usual 1D-DCT matrix. Therefore $A$ is a rectangular matrix, since $M < N$.\n",
    "\n",
    "To generate signals that are sparse w.r.t. $A=[C, D]$, at first generate a signal $y$ that is $L-1$ sparse w.r.t. $D$ as you have done in the previous section. Then, add a spike to $y$ that is sparse w.r.t. $A$. Bear in mind that the spike is to be considered a signal to be reconstructed, rather than noise."
   ]
  },
  {
   "cell_type": "markdown",
   "metadata": {
    "id": "aPAAAwcIVPNv"
   },
   "source": [
    "Generate the standard orthonormal basis"
   ]
  },
  {
   "cell_type": "code",
   "execution_count": null,
   "metadata": {
    "executionInfo": {
     "elapsed": 668,
     "status": "aborted",
     "timestamp": 1741049614042,
     "user": {
      "displayName": "Giacomo",
      "userId": "00738787145430468476"
     },
     "user_tz": -60
    },
    "id": "obxdA9V5yPnr"
   },
   "outputs": [],
   "source": [
    "for i in range(M):\n",
    "    C[:, i] =\n",
    "\n",
    "plt.figure(5)\n",
    "plt.imshow(C)\n",
    "plt.title(f'Canonical basis dimension n = {M}')\n"
   ]
  },
  {
   "cell_type": "markdown",
   "metadata": {
    "id": "WkkR9rPyydtv"
   },
   "source": [
    "\n",
    "\n",
    "Generate a signal that is sparse w.r.t. D"
   ]
  },
  {
   "cell_type": "code",
   "execution_count": null,
   "metadata": {
    "executionInfo": {
     "elapsed": 669,
     "status": "aborted",
     "timestamp": 1741049614043,
     "user": {
      "displayName": "Giacomo",
      "userId": "00738787145430468476"
     },
     "user_tz": -60
    },
    "id": "cOiO5GVZyr6-"
   },
   "outputs": [],
   "source": [
    "x_orig =\n",
    "y =\n"
   ]
  },
  {
   "cell_type": "markdown",
   "metadata": {
    "id": "tWynseiYzHzy"
   },
   "source": [
    "Randomly place a spike in the first 20 samples of $y$\n"
   ]
  },
  {
   "cell_type": "code",
   "execution_count": null,
   "metadata": {
    "executionInfo": {
     "elapsed": 731,
     "status": "aborted",
     "timestamp": 1741049614105,
     "user": {
      "displayName": "Giacomo",
      "userId": "00738787145430468476"
     },
     "user_tz": -60
    },
    "id": "4MtcADV4zJaB"
   },
   "outputs": [],
   "source": [
    "# choose spike location\n",
    "spikeLocation =\n",
    "# modify the signal intensity at spikeLocation\n",
    "# update y\n"
   ]
  },
  {
   "cell_type": "markdown",
   "metadata": {
    "id": "fzS-5-A0zOoZ"
   },
   "source": [
    "Add noise to the signal"
   ]
  },
  {
   "cell_type": "code",
   "execution_count": null,
   "metadata": {
    "executionInfo": {
     "elapsed": 733,
     "status": "aborted",
     "timestamp": 1741049614108,
     "user": {
      "displayName": "Giacomo",
      "userId": "00738787145430468476"
     },
     "user_tz": -60
    },
    "id": "vM1GUauPzQoB"
   },
   "outputs": [],
   "source": [
    "s ="
   ]
  },
  {
   "cell_type": "markdown",
   "metadata": {
    "id": "WJH-ifZvzUOM"
   },
   "source": [
    "Perform hard thresholding by keeping the largest $L$ coefficients w.r.t. $D$ (not $A$!)"
   ]
  },
  {
   "cell_type": "code",
   "execution_count": null,
   "metadata": {
    "executionInfo": {
     "elapsed": 734,
     "status": "aborted",
     "timestamp": 1741049614109,
     "user": {
      "displayName": "Giacomo",
      "userId": "00738787145430468476"
     },
     "user_tz": -60
    },
    "id": "n7O-Wr1UzVlL"
   },
   "outputs": [],
   "source": [
    "# analysis: compute the coefficients w.r.t. D\n",
    "x =\n",
    "\n",
    "# keep only the L largest coefficients (absolute value)\n",
    "x_hat =\n",
    "\n",
    "# invert the transformation\n",
    "s_hat ="
   ]
  },
  {
   "cell_type": "markdown",
   "metadata": {
    "id": "HgM1e9RUzrcJ"
   },
   "source": [
    "Plot the results and compare them to the one obtained in the previous section.\n",
    "\n",
    "Is the signal $s$ denoised properly?"
   ]
  },
  {
   "cell_type": "code",
   "execution_count": null,
   "metadata": {
    "executionInfo": {
     "elapsed": 735,
     "status": "aborted",
     "timestamp": 1741049614110,
     "user": {
      "displayName": "Giacomo",
      "userId": "00738787145430468476"
     },
     "user_tz": -60
    },
    "id": "Fn8Ptj0ZzvGn"
   },
   "outputs": [],
   "source": [
    "fig, ax = plt.subplots(1, 2, figsize=(12,6))\n",
    "ax[0].plot(y, 'b-o', linewidth=LN_WDT+1)\n",
    "ax[0].plot(s, 'r-x', linewidth=LN_WDT-1)\n",
    "ax[0].plot(s_hat, 'm--o', linewidth=LN_WDT)\n",
    "ax[0].set_title(f'Sparse signal w.r.t. A (L = {L:.0f})')\n",
    "ax[0].legend(['original (y)', 'noisy (s)', 'hard-thresholded estimate (shat)'])\n",
    "\n",
    "\n",
    "ax[1].plot(x, 'r-x', linewidth=LN_WDT-1)\n",
    "ax[1].stem(x_orig, linefmt='b-', markerfmt='C0o')\n",
    "ax[1].stem(x_hat, linefmt='m-.', markerfmt='C1o')\n",
    "ax[1].set_title('DCT Coefficients')\n",
    "ax[1].legend(['coefficients of s (x)', 'coefficients of y (x_orig)', 'coefficients of s_hat (x_hat)'])"
   ]
  },
  {
   "cell_type": "markdown",
   "metadata": {
    "id": "JdLhGbFqkW5V"
   },
   "source": [
    "## Tichonov Regularization\n",
    "\n",
    "\n",
    "Compute the representation w.r.t. $A = [C, D]$ using Tichonov's regularization (try differente value for $\\lambda$)"
   ]
  },
  {
   "cell_type": "code",
   "execution_count": null,
   "metadata": {
    "executionInfo": {
     "elapsed": 736,
     "status": "aborted",
     "timestamp": 1741049614112,
     "user": {
      "displayName": "Giacomo",
      "userId": "00738787145430468476"
     },
     "user_tz": -60
    },
    "id": "X_Y7zSViHsm4"
   },
   "outputs": [],
   "source": [
    "lmbda = 1\n",
    "x_hat_tic =\n",
    "s_hat_tic =\n"
   ]
  },
  {
   "cell_type": "markdown",
   "metadata": {
    "id": "4ENOHR2uH99W"
   },
   "source": [
    "Show the results"
   ]
  },
  {
   "cell_type": "code",
   "execution_count": null,
   "metadata": {
    "executionInfo": {
     "elapsed": 738,
     "status": "aborted",
     "timestamp": 1741049614114,
     "user": {
      "displayName": "Giacomo",
      "userId": "00738787145430468476"
     },
     "user_tz": -60
    },
    "id": "DA4DZBl7IBGy"
   },
   "outputs": [],
   "source": [
    "LN_WDT = 2\n",
    "MRK_SZ = 10\n",
    "\n",
    "fix, ax = plt.subplots(1, 2, figsize=(16, 8))\n",
    "ax[0].plot(y, 'b--', linewidth=LN_WDT + 1)\n",
    "ax[0].plot(s, 'r-', linewidth=LN_WDT - 1)\n",
    "ax[0].plot(s_hat_tic, 'm-', linewidth=LN_WDT)\n",
    "ax[0].set_title(f'Sparse signal w.r.t. A (L = {L:.0f})')\n",
    "ax[0].legend(['original (y)', 'noisy (s)', 'Tichonov estimate (shat_tic)'])\n",
    "\n",
    "ax[1].stem(x_hat_tic, linefmt='m-.', markerfmt='C1o')\n",
    "ax[1].set_title('Coefficients w.r.t. A')"
   ]
  }
 ],
 "metadata": {
  "colab": {
   "provenance": []
  },
  "kernelspec": {
   "display_name": "Python 3",
   "name": "python3"
  },
  "language_info": {
   "name": "python"
  }
 },
 "nbformat": 4,
 "nbformat_minor": 0
}
