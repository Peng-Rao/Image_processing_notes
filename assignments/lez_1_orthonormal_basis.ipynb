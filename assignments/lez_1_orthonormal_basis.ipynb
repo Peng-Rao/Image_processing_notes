{
 "cells": [
  {
   "cell_type": "code",
   "execution_count": null,
   "metadata": {
    "id": "pLAA3Lj3GLtp"
   },
   "outputs": [],
   "source": [
    "import numpy as np\n",
    "import scipy\n",
    "from matplotlib import pyplot as plt\n",
    "from scipy import fft\n",
    "\n",
    "%matplotlib inline\n",
    "%config InlineBackend.figure_format='retina'"
   ]
  },
  {
   "cell_type": "code",
   "execution_count": null,
   "metadata": {
    "id": "ASNHj3_oG5J0"
   },
   "outputs": [],
   "source": [
    "rootfolder = \"..\""
   ]
  },
  {
   "cell_type": "markdown",
   "metadata": {
    "id": "Be43ir2EHcSE"
   },
   "source": [
    "## Generating 1-D DCT basis\n"
   ]
  },
  {
   "cell_type": "code",
   "execution_count": null,
   "metadata": {
    "id": "8Sh4rbXeHh_E"
   },
   "outputs": [],
   "source": [
    "M = 128  # signal dimension\n",
    "N = M  # nr of atoms in the basis (this will be different when using redundant set of generators)\n",
    "\n",
    "D = np.zeros((M, N))  # matrix containing the DCT basis (a DCT function in each column)\n",
    "DCT = np.zeros(\n",
    "    (M, N)\n",
    ")  # matrix containing the standard basis (a kronecker delta in each column)\n",
    "\n",
    "for k in range(M):\n",
    "    # take the formula from slides and remember to normalize. Each atom goes in a column of DCT matrix\n",
    "    DCT[:, k] = np.cos(np.pi * k * (2 * np.arange(M) + 1) / (2 * M))\n",
    "    # Normalize the DCT basis using l2 norm\n",
    "    DCT[:, k] = DCT[:, k] / np.linalg.norm(DCT[:, k])"
   ]
  },
  {
   "cell_type": "markdown",
   "metadata": {
    "id": "qjOQIg-ZHpTc"
   },
   "source": [
    "Display an atom of the dct basis\n"
   ]
  },
  {
   "cell_type": "code",
   "execution_count": null,
   "metadata": {
    "id": "-IZ3t2qiHoOY"
   },
   "outputs": [],
   "source": [
    "k = 34\n",
    "plt.figure()\n",
    "plt.plot(DCT[:, k], \"b\")\n",
    "plt.title(f\"element: {k + 1} from the DCT basis\")"
   ]
  },
  {
   "cell_type": "markdown",
   "metadata": {
    "id": "wjmesSGYH4YK"
   },
   "source": [
    "Check orthogonality\n"
   ]
  },
  {
   "cell_type": "code",
   "execution_count": null,
   "metadata": {
    "id": "NXdKkXicH8-8"
   },
   "outputs": [],
   "source": [
    "is_DCT_orth = np.allclose(np.eye(M), DCT.T @ DCT)\n",
    "print(f\"DCT dictionary is orthogonal: {is_DCT_orth}\")"
   ]
  },
  {
   "cell_type": "markdown",
   "metadata": {
    "id": "ec2jaZBWIHDf"
   },
   "source": [
    "Display the basis in the matrix\n"
   ]
  },
  {
   "cell_type": "code",
   "execution_count": null,
   "metadata": {
    "id": "qd8R8ya6IIQ8"
   },
   "outputs": [],
   "source": [
    "plt.figure(figsize=(10, 10))\n",
    "plt.imshow(DCT)\n",
    "plt.title(\"DCT basis, atoms in the column\")"
   ]
  },
  {
   "cell_type": "markdown",
   "metadata": {
    "id": "ZZXmb-rbISJb"
   },
   "source": [
    "## Generate 1D DCT basis using the function idct\n",
    "\n",
    "idct is the inverse dct transform stack this in the matrix D\n"
   ]
  },
  {
   "cell_type": "code",
   "execution_count": null,
   "metadata": {
    "id": "Uelx1xRoIXh_"
   },
   "outputs": [],
   "source": [
    "for k in range(M):\n",
    "    # define the atom\n",
    "    a = np.zeros(M)\n",
    "    a[k] = 1\n",
    "    D[:, k] = fft.idct(a, norm=\"ortho\")\n"
   ]
  },
  {
   "cell_type": "markdown",
   "metadata": {
    "id": "8dlJ-5peIbf6"
   },
   "source": [
    "Display the basis in the matrix\n"
   ]
  },
  {
   "cell_type": "code",
   "execution_count": null,
   "metadata": {
    "id": "1_V3FeuvIasS"
   },
   "outputs": [],
   "source": [
    "plt.figure(figsize=(10, 10))\n",
    "plt.imshow(D)\n",
    "plt.title(\"DCT basis, atoms in the column\")"
   ]
  },
  {
   "cell_type": "markdown",
   "metadata": {
    "id": "9wG7LahlIjoJ"
   },
   "source": [
    "Check that D and DCT defined above coincide\n"
   ]
  },
  {
   "cell_type": "code",
   "execution_count": null,
   "metadata": {
    "id": "n0JPj1VPIkkR"
   },
   "outputs": [],
   "source": [
    "is_DCT_equal_D = np.allclose(D, DCT)\n",
    "print(f\"D and DCT are equal: {is_DCT_equal_D}\")"
   ]
  },
  {
   "cell_type": "markdown",
   "metadata": {
    "id": "dPVyjw3wI4As"
   },
   "source": [
    "## Analysis: compute the representation of an input ECG signal\n",
    "\n",
    "Load few ECG(Electrocardiogram) signals to be processed\n"
   ]
  },
  {
   "cell_type": "code",
   "execution_count": null,
   "metadata": {
    "id": "PEnVqvCPI8Wt"
   },
   "outputs": [],
   "source": [
    "temp = scipy.io.loadmat(f\"{rootfolder}/data/croppedECG.mat\")\n",
    "nBeats = 10\n",
    "S = temp[\"S\"][:, :nBeats]\n",
    "X = np.zeros((M, nBeats))  # initialize the matrix of representations of S w.r.t. D"
   ]
  },
  {
   "cell_type": "markdown",
   "metadata": {},
   "source": [
    "Compute the representation coefficients\n"
   ]
  },
  {
   "cell_type": "code",
   "execution_count": null,
   "metadata": {
    "id": "HFDrYeqPJS8l"
   },
   "outputs": [],
   "source": [
    "for i in range(nBeats):\n",
    "    X[:, i] = np.dot(DCT.T, S[:, i])"
   ]
  },
  {
   "cell_type": "markdown",
   "metadata": {
    "id": "WKgMALebJX3H"
   },
   "source": [
    "Display a signal and its representation coefficients\n"
   ]
  },
  {
   "cell_type": "code",
   "execution_count": null,
   "metadata": {
    "id": "NlrHKAtNJWwt"
   },
   "outputs": [],
   "source": [
    "i = 5\n",
    "fig, (ax1, ax2) = plt.subplots(2, 1, figsize=(8, 8))\n",
    "ax1.plot(S[:, i], \"r\")\n",
    "ax1.set_title(\"original beat\")\n",
    "ax2.plot(X[:, i], \"b\")\n",
    "ax2.set_title(\"coefficients w.r.t. DCT basis\")"
   ]
  },
  {
   "cell_type": "markdown",
   "metadata": {
    "id": "tRoHLvLfJg3n"
   },
   "source": [
    "## Synthesis: reconstruct all the ECG signals from their representations\n",
    "\n",
    "Reconstruct the two signals (express them w.r.t. the standard basis)\n"
   ]
  },
  {
   "cell_type": "code",
   "execution_count": null,
   "metadata": {
    "id": "-5YHYzy-JnF3"
   },
   "outputs": [],
   "source": [
    "# reconstruct the signal using the DCT basis\n",
    "S_hat_D = np.dot(DCT, X)"
   ]
  },
  {
   "cell_type": "markdown",
   "metadata": {
    "id": "EK9p7tLTJpIQ"
   },
   "source": [
    "Check if there is perfect reconstruction.\n",
    "\n",
    "It is trivial because $\\hat S_D = DD^TS$ and $DD^T = I_M$ since $D$ is orthonormal (the same applies to $C$)\n"
   ]
  },
  {
   "cell_type": "code",
   "execution_count": null,
   "metadata": {
    "id": "Egim5DuGJ_rO"
   },
   "outputs": [],
   "source": [
    "is_reconstruction_perfect = np.allclose(S, S_hat_D)\n",
    "print(f\"The reconstruction is perfect: {is_reconstruction_perfect}\")"
   ]
  },
  {
   "cell_type": "markdown",
   "metadata": {
    "id": "xsK2fbhSKMAp"
   },
   "source": [
    "## Add noise to ECG data and inspect the representations\n"
   ]
  },
  {
   "cell_type": "code",
   "execution_count": null,
   "metadata": {
    "id": "I0Vfw88oKOl_"
   },
   "outputs": [],
   "source": [
    "sigma_noise = 0.1\n",
    "S0 = S.copy()\n",
    "S = S0 + sigma_noise * np.random.normal(size=S0.shape)\n",
    "X = np.zeros((M, nBeats))  # initialize the matrix of representations of S w.r.t. D"
   ]
  },
  {
   "cell_type": "markdown",
   "metadata": {
    "id": "t7cxH4lmKW_g"
   },
   "source": [
    "Compute the representation coefficients\n"
   ]
  },
  {
   "cell_type": "code",
   "execution_count": null,
   "metadata": {
    "id": "3eDa25tDKYk5"
   },
   "outputs": [],
   "source": [
    "for i in range(nBeats):\n",
    "    X[:, i] = np.dot(DCT.T, S[:, i])"
   ]
  },
  {
   "cell_type": "markdown",
   "metadata": {
    "id": "myMRBTXzKaAn"
   },
   "source": [
    "Display a signal and its representation coefficients\n"
   ]
  },
  {
   "cell_type": "code",
   "execution_count": null,
   "metadata": {
    "id": "xdAZXEQdKa6g"
   },
   "outputs": [],
   "source": [
    "i = 5\n",
    "fig, (ax1, ax2) = plt.subplots(2, 1, figsize=(8, 8))\n",
    "ax1.plot(S[:, i], \"r\")\n",
    "ax1.set_title(\"original beat\")\n",
    "ax2.plot(X[:, i], \"b\")\n",
    "ax2.set_title(\"coefficients w.r.t. DCT basis\")"
   ]
  },
  {
   "cell_type": "markdown",
   "metadata": {
    "id": "5C_uJcf7KlMJ"
   },
   "source": [
    "## Hard Thresholding\n",
    "\n",
    "Noise affects all the coefficients of our transformation\n",
    "\n",
    "Keep only $L$ coefficients having largest magnitude\n"
   ]
  },
  {
   "cell_type": "markdown",
   "metadata": {},
   "source": [
    "### L = 10\n"
   ]
  },
  {
   "cell_type": "code",
   "execution_count": null,
   "metadata": {},
   "outputs": [],
   "source": [
    "X_HT = np.zeros((M, nBeats))  # initialize the matrix of representations of S w.r.t. D\n",
    "S_hat = np.zeros((M, nBeats))\n",
    "L = 10  # sparsity level (try different values)\n",
    "\n",
    "for i in range(nBeats):\n",
    "    origSignal = S0[:, i]\n",
    "    noisySignal = S[:, i]\n",
    "\n",
    "    # transform each signal separately (analysis)\n",
    "    x = np.dot(DCT.T, noisySignal)\n",
    "\n",
    "    # keep only the L largest coefficients (absolute value)\n",
    "    idx = np.argsort(np.abs(x))[-L:]\n",
    "    x_HT = np.zeros_like(x)\n",
    "    x_HT[idx] = x[idx]\n",
    "\n",
    "    # invert the transformation\n",
    "    s_hat = np.dot(DCT, x_HT)\n",
    "    S_hat[:, i] = s_hat"
   ]
  },
  {
   "cell_type": "markdown",
   "metadata": {},
   "source": [
    "Display a signal\n"
   ]
  },
  {
   "cell_type": "code",
   "execution_count": null,
   "metadata": {},
   "outputs": [],
   "source": [
    "fig, (ax1, ax2) = plt.subplots(2, 1, figsize=(8, 8))\n",
    "ax1.plot(S[:, i], \"r\")\n",
    "ax1.plot(S0[:, i], \"b--\")\n",
    "ax1.plot(S_hat[:, i], \"k\")\n",
    "ax1.legend([\"noisy\", \"original\", \"hard-thresholded(L=10)\"])\n",
    "ax1.set_title(\"original beat\")\n",
    "\n",
    "# coefficients of the noisy signal\n",
    "ax2.plot(np.matmul(D.T, S[:, i]), \"r.\")\n",
    "# coefficients of the noise free signal\n",
    "ax2.plot(np.matmul(D.T, S0[:, i]), \"b--\")\n",
    "ax2.stem(np.arange(M), X_HT[:, i], \"k\")\n",
    "ax2.set_title(\"DCT coefficients\")"
   ]
  },
  {
   "cell_type": "markdown",
   "metadata": {},
   "source": [
    "### L=21\n"
   ]
  },
  {
   "cell_type": "code",
   "execution_count": null,
   "metadata": {
    "id": "EsWzYHEcLFEm"
   },
   "outputs": [],
   "source": [
    "X_HT = np.zeros((M, nBeats))  # initialize the matrix of representations of S w.r.t. D\n",
    "S_hat = np.zeros((M, nBeats))\n",
    "L = 21  # sparsity level (try different values)\n",
    "\n",
    "for i in range(nBeats):\n",
    "    origSignal = S0[:, i]\n",
    "    noisySignal = S[:, i]\n",
    "\n",
    "    # transform each signal separately (analysis)\n",
    "    x = np.dot(DCT.T, noisySignal)\n",
    "\n",
    "    # keep only the L largest coefficients (absolute value)\n",
    "    idx = np.argsort(np.abs(x))[-L:]\n",
    "    x_HT = np.zeros_like(x)\n",
    "    x_HT[idx] = x[idx]\n",
    "\n",
    "    # invert the transformation\n",
    "    s_hat = np.dot(DCT, x_HT)\n",
    "    S_hat[:, i] = s_hat"
   ]
  },
  {
   "cell_type": "markdown",
   "metadata": {
    "id": "rD_f-4lrL0SP"
   },
   "source": [
    "Display a signal\n"
   ]
  },
  {
   "cell_type": "code",
   "execution_count": null,
   "metadata": {
    "id": "84uPJbcPL1it"
   },
   "outputs": [],
   "source": [
    "fig, (ax1, ax2) = plt.subplots(2, 1, figsize=(8, 8))\n",
    "ax1.plot(S[:, i], \"r\")\n",
    "ax1.plot(S0[:, i], \"b--\")\n",
    "ax1.plot(S_hat[:, i], \"k\")\n",
    "ax1.legend([\"noisy\", \"original\", \"hard-thresholded(L=21)\"])\n",
    "ax1.set_title(\"original beat\")\n",
    "\n",
    "# coefficients of the noisy signal\n",
    "ax2.plot(np.matmul(D.T, S[:, i]), \"r.\")\n",
    "# coefficients of the noise free signal\n",
    "ax2.plot(np.matmul(D.T, S0[:, i]), \"b--\")\n",
    "ax2.stem(np.arange(M), X_HT[:, i], \"k\")\n",
    "ax2.set_title(\"DCT coefficients\")"
   ]
  },
  {
   "cell_type": "markdown",
   "metadata": {},
   "source": [
    "### L = 100\n"
   ]
  },
  {
   "cell_type": "code",
   "execution_count": null,
   "metadata": {},
   "outputs": [],
   "source": [
    "X_HT = np.zeros((M, nBeats))  # initialize the matrix of representations of S w.r.t. D\n",
    "S_hat = np.zeros((M, nBeats))\n",
    "L = 100  # sparsity level (try different values)\n",
    "\n",
    "for i in range(nBeats):\n",
    "    origSignal = S0[:, i]\n",
    "    noisySignal = S[:, i]\n",
    "\n",
    "    # transform each signal separately (analysis)\n",
    "    x = np.dot(DCT.T, noisySignal)\n",
    "\n",
    "    # keep only the L largest coefficients (absolute value)\n",
    "    idx = np.argsort(np.abs(x))[-L:]\n",
    "    x_HT = np.zeros_like(x)\n",
    "    x_HT[idx] = x[idx]\n",
    "\n",
    "    # invert the transformation\n",
    "    s_hat = np.dot(DCT, x_HT)\n",
    "    S_hat[:, i] = s_hat"
   ]
  },
  {
   "cell_type": "markdown",
   "metadata": {},
   "source": [
    "Display a signal\n"
   ]
  },
  {
   "cell_type": "code",
   "execution_count": null,
   "metadata": {},
   "outputs": [],
   "source": [
    "fig, (ax1, ax2) = plt.subplots(2, 1, figsize=(8, 8))\n",
    "ax1.plot(S[:, i], \"r\")\n",
    "ax1.plot(S0[:, i], \"b--\")\n",
    "ax1.plot(S_hat[:, i], \"k\")\n",
    "ax1.legend([\"noisy\", \"original\", \"hard-thresholded(L=100)\"])\n",
    "ax1.set_title(\"original beat\")\n",
    "\n",
    "# coefficients of the noisy signal\n",
    "ax2.plot(np.matmul(D.T, S[:, i]), \"r.\")\n",
    "# coefficients of the noise free signal\n",
    "ax2.plot(np.matmul(D.T, S0[:, i]), \"b--\")\n",
    "ax2.stem(np.arange(M), X_HT[:, i], \"k\")\n",
    "ax2.set_title(\"DCT coefficients\")"
   ]
  },
  {
   "cell_type": "markdown",
   "metadata": {
    "id": "5TPzz0doDXWp"
   },
   "source": [
    "## Compression\n",
    "\n",
    "Try to compress a heartbeat using different value of $L$ and plot the mean squared error corresponding to each $L$\n"
   ]
  },
  {
   "cell_type": "code",
   "execution_count": null,
   "metadata": {
    "id": "KWQNAwPTDMGI"
   },
   "outputs": [],
   "source": [
    "x_HT = np.zeros((M))  # initialize the matrix of representations of S w.r.t. D\n",
    "s_hat = np.zeros((M))\n",
    "\n",
    "L_values = np.arange(1, M + 1)\n",
    "MSE_values = np.zeros(M)\n",
    "\n",
    "origSignal = S[:, 0]\n",
    "\n",
    "for L in L_values:\n",
    "    # transform each signal separately (analysis)\n",
    "    x = np.dot(DCT.T, origSignal)\n",
    "\n",
    "    # keep only the L largest coefficients (absolute value)\n",
    "    idx = np.argsort(np.abs(x))[-L:]\n",
    "    x_HT = np.zeros_like(x)\n",
    "    x_HT[idx] = x[idx]\n",
    "\n",
    "    # invert the transformation\n",
    "    s_hat = np.dot(DCT, x_HT)\n",
    "\n",
    "    mse = np.mean((origSignal - s_hat) ** 2)\n",
    "\n",
    "    MSE_values[L - 1] = mse\n",
    "\n",
    "plt.figure(figsize=(10, 6))\n",
    "plt.plot(L_values, MSE_values, \"-o\")\n",
    "plt.xlabel(\"L\")\n",
    "plt.ylabel(\"MSE\")\n",
    "plt.title(\"Compression performance\")\n",
    "plt.grid()"
   ]
  }
 ],
 "metadata": {
  "colab": {
   "provenance": [
    {
     "file_id": "1gsZKQksKfDmcxu-j-uY-gGGGtCE2fsJx",
     "timestamp": 1676734895713
    }
   ]
  },
  "kernelspec": {
   "display_name": "Image_processing_notes",
   "language": "python",
   "name": "python3"
  },
  "language_info": {
   "codemirror_mode": {
    "name": "ipython",
    "version": 3
   },
   "file_extension": ".py",
   "mimetype": "text/x-python",
   "name": "python",
   "nbconvert_exporter": "python",
   "pygments_lexer": "ipython3",
   "version": "3.13.4"
  }
 },
 "nbformat": 4,
 "nbformat_minor": 0
}
