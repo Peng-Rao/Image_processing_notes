{
 "cells": [
  {
   "cell_type": "code",
   "execution_count": null,
   "metadata": {
    "id": "pLAA3Lj3GLtp"
   },
   "outputs": [],
   "source": [
    "import numpy as np\n",
    "from matplotlib import pyplot as plt"
   ]
  },
  {
   "cell_type": "markdown",
   "metadata": {
    "id": "Be43ir2EHcSE"
   },
   "source": [
    "Define the problem parameters.\n"
   ]
  },
  {
   "cell_type": "code",
   "execution_count": null,
   "metadata": {
    "id": "8Sh4rbXeHh_E"
   },
   "outputs": [],
   "source": [
    "A = np.array([[1, 3], [3, 1]])  # low dimensions to plot it, you can test larger sizes\n",
    "b = np.zeros(2)\n",
    "\n",
    "lmbda = 0.5"
   ]
  },
  {
   "cell_type": "markdown",
   "metadata": {
    "id": "qjOQIg-ZHpTc"
   },
   "source": [
    "The function to be minimized is $\\frac{1}{2}\\|Ax-b\\|_2^2 + \\lambda \\|x\\|_1$\n"
   ]
  },
  {
   "cell_type": "code",
   "execution_count": null,
   "metadata": {
    "id": "-IZ3t2qiHoOY"
   },
   "outputs": [],
   "source": [
    "f = lambda x: 0.5 * np.sum((A @ x - b) ** 2) + lmbda * np.sum(np.abs(x))\n",
    "\n",
    "# derivative of f from matrix calculus\n",
    "df = lambda x: A.T @ (A @ x) - A.T @ b"
   ]
  },
  {
   "cell_type": "markdown",
   "metadata": {
    "id": "wjmesSGYH4YK"
   },
   "source": [
    "Plot the function\n"
   ]
  },
  {
   "cell_type": "code",
   "execution_count": null,
   "metadata": {
    "id": "NXdKkXicH8-8"
   },
   "outputs": [],
   "source": [
    "# this function has been prepared only for the visualization sake, no need to go through this but it renders some nice\n",
    "# graphics :)\n",
    "F = (\n",
    "    lambda r1, r2: (r1 * A[0, 0] + r2 * A[0, 1] - b[0]) ** 2\n",
    "    + (r1 * A[1, 0] + r2 * A[1, 1] - b[1]) ** 2\n",
    "    + lmbda * (np.abs(r1) + np.abs(r2))\n",
    ")\n",
    "xx, yy = np.meshgrid(np.arange(-10, 10, 1), np.arange(-10, 10, 1))\n",
    "\n",
    "fig = plt.figure()\n",
    "ax = plt.axes(projection=\"3d\")\n",
    "ax.plot_surface(xx, yy, F(xx, yy), edgecolor=[0, 0, 1], alpha=0.5, facecolor=[0, 1, 1])"
   ]
  },
  {
   "cell_type": "markdown",
   "metadata": {
    "id": "ec2jaZBWIHDf"
   },
   "source": [
    "Parameters of ISTA\n"
   ]
  },
  {
   "cell_type": "code",
   "execution_count": null,
   "metadata": {
    "id": "qd8R8ya6IIQ8"
   },
   "outputs": [],
   "source": [
    "TOL_GRAD_NORM = 1e-4\n",
    "MAX_ITER = 1e3\n",
    "TOL_DIST_X = 1e-3\n",
    "alpha = 0.05\n",
    "# optimal value for alpha\n",
    "alpha = 1 / np.max(np.linalg.eigvals(A.T @ A))"
   ]
  },
  {
   "cell_type": "markdown",
   "metadata": {
    "id": "ZZXmb-rbISJb"
   },
   "source": [
    "Initialization: test different inizializations, the function is convex, you always converge to the same solution\n"
   ]
  },
  {
   "cell_type": "code",
   "execution_count": null,
   "metadata": {
    "id": "Uelx1xRoIXh_"
   },
   "outputs": [],
   "source": [
    "x = np.array([-5, 10])\n",
    "\n",
    "grad_norm = 1e10\n",
    "distanceX = 1e10\n",
    "\n",
    "# initialize the list with all the estimates\n",
    "all_x = [x]\n"
   ]
  },
  {
   "cell_type": "markdown",
   "metadata": {
    "id": "8dlJ-5peIbf6"
   },
   "source": [
    "Main loop\n"
   ]
  },
  {
   "cell_type": "code",
   "execution_count": null,
   "metadata": {
    "id": "1_V3FeuvIasS"
   },
   "outputs": [],
   "source": [
    "cnt = 0\n",
    "\n",
    "while cnt < MAX_ITER and distanceX > TOL_DIST_X:\n",
    "    # store previous x for distance calculation\n",
    "    x_prev = x.copy()\n",
    "\n",
    "    # compute the argument of the proximal operator\n",
    "    x = x - alpha * df(x)\n",
    "\n",
    "    # perform soft thresholding of x\n",
    "    x = np.sign(x) * np.maximum(np.abs(x) - alpha * lmbda, 0)\n",
    "\n",
    "    # compute the norm of the gradient for the stopping criteria\n",
    "    grad_norm = np.linalg.norm(df(x))\n",
    "\n",
    "    # compute the distance between two consecutive iterates for the stopping criteria\n",
    "    distanceX = np.linalg.norm(x - x_prev)\n",
    "\n",
    "    # store the estimate\n",
    "    all_x.append(x.copy())\n",
    "\n",
    "    cnt += 1"
   ]
  },
  {
   "cell_type": "markdown",
   "metadata": {
    "id": "9wG7LahlIjoJ"
   },
   "source": [
    "Plot all the estimates\n"
   ]
  },
  {
   "cell_type": "code",
   "execution_count": null,
   "metadata": {
    "id": "n0JPj1VPIkkR"
   },
   "outputs": [],
   "source": [
    "# plot the new estimate\n",
    "xxplot = [x[0] for x in all_x]\n",
    "yyplot = [x[1] for x in all_x]\n",
    "zzplot = F(np.array(xxplot), np.array(yyplot))\n",
    "\n",
    "fig = plt.figure(figsize=(10, 10))\n",
    "ax = plt.axes(projection=\"3d\")\n",
    "ax.plot_surface(xx, yy, F(xx, yy), edgecolor=[0, 0, 1], alpha=0.5, facecolor=[0, 1, 1])\n",
    "ax.plot3D(xxplot, yyplot, zzplot, \"r-o\")"
   ]
  },
  {
   "cell_type": "code",
   "execution_count": null,
   "metadata": {
    "id": "Aug3nCgh2Tdg"
   },
   "outputs": [],
   "source": [
    "print(f\"nr of iteration of ISTA (before stopping criteria met): {cnt}\\n\")\n",
    "print(f\"Solution of ISTA: [{x[0]:.4f}, {x[1]:.4f}]\\n\")\n",
    "print(f\"Value of the functional: {f(x):.4f}\\n\")"
   ]
  }
 ],
 "metadata": {
  "colab": {
   "authorship_tag": "ABX9TyPCZRli99EkEJ8NbKad84Xk",
   "provenance": []
  },
  "kernelspec": {
   "display_name": "Image_processing_notes",
   "language": "python",
   "name": "python3"
  },
  "language_info": {
   "codemirror_mode": {
    "name": "ipython",
    "version": 3
   },
   "file_extension": ".py",
   "mimetype": "text/x-python",
   "name": "python",
   "nbconvert_exporter": "python",
   "pygments_lexer": "ipython3",
   "version": "3.13.4"
  }
 },
 "nbformat": 4,
 "nbformat_minor": 0
}
