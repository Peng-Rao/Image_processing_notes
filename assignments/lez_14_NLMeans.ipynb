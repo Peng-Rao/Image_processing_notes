{
 "cells": [
  {
   "cell_type": "code",
   "execution_count": null,
   "metadata": {
    "id": "opwp5eU9E-8f"
   },
   "outputs": [],
   "source": [
    "import numpy as np\n",
    "from matplotlib import pyplot as plt\n",
    "from skimage.io import imread\n",
    "\n",
    "%matplotlib inline\n",
    "%config InlineBackend.figure_format='retina'"
   ]
  },
  {
   "cell_type": "code",
   "execution_count": null,
   "metadata": {
    "id": "N0H_uNYDFo9a"
   },
   "outputs": [],
   "source": [
    "rootfolder = \"..\""
   ]
  },
  {
   "cell_type": "markdown",
   "metadata": {
    "id": "Cq78PWSDFw7G"
   },
   "source": [
    "Load the image and rescale it in $[0,1]$\n"
   ]
  },
  {
   "cell_type": "code",
   "execution_count": null,
   "metadata": {
    "id": "PHuWhKkwFdIR"
   },
   "outputs": [],
   "source": [
    "img = imread(f\"{rootfolder}/data/cameraman.png\") / 255\n",
    "img = img[50:200, 50:200]\n",
    "imsz = img.shape\n",
    "\n",
    "# patch size\n",
    "p = 7\n",
    "\n",
    "# number of elements in the patch\n",
    "M = p**2\n",
    "\n",
    "# radius of the search neighborhood\n",
    "H = 12"
   ]
  },
  {
   "cell_type": "markdown",
   "metadata": {
    "id": "KRBSmSG5GIPe"
   },
   "source": [
    "Corrupt the image with white gaussian noise\n"
   ]
  },
  {
   "cell_type": "code",
   "execution_count": null,
   "metadata": {
    "id": "m1NfJRxKGKFu"
   },
   "outputs": [],
   "source": [
    "sigma_noise = 20 / 255\n",
    "noisy_img = img + np.random.normal(size=imsz) * sigma_noise"
   ]
  },
  {
   "cell_type": "markdown",
   "metadata": {
    "id": "Y4O1zq_JGPeL"
   },
   "source": [
    "Compute the PSNR of the noisy input\n"
   ]
  },
  {
   "cell_type": "code",
   "execution_count": null,
   "metadata": {
    "id": "9OtzbfA_GRIA"
   },
   "outputs": [],
   "source": [
    "psnr_noisy = 10 * np.log10(1 / np.mean((noisy_img - img) ** 2))\n",
    "psnr_noisy"
   ]
  },
  {
   "cell_type": "code",
   "execution_count": null,
   "metadata": {
    "id": "oMQ-c73WGT6f"
   },
   "outputs": [],
   "source": [
    "fig, ax = plt.subplots(1, 2, figsize=(20, 10))\n",
    "ax[0].imshow(img, cmap=\"gray\")\n",
    "ax[0].set_title(\"Original image\")\n",
    "\n",
    "ax[1].imshow(noisy_img, cmap=\"gray\")\n",
    "ax[1].set_title(f\"Noisy image, PSNR = {psnr_noisy:.2f}\")"
   ]
  },
  {
   "cell_type": "markdown",
   "metadata": {
    "id": "rEEitk8qIUeE"
   },
   "source": [
    "## Pixel-based NL-Means\n",
    "\n",
    "Set parameters and initialize the variables\n"
   ]
  },
  {
   "cell_type": "code",
   "execution_count": null,
   "metadata": {
    "id": "Hk2qJgl_ISwt"
   },
   "outputs": [],
   "source": [
    "# initialize the estimated image\n",
    "img_hat = np.zeros_like(img)\n",
    "\n",
    "# pad the noisy image\n",
    "img_pad = np.pad(\n",
    "    noisy_img, ((H + p // 2, H + p // 2), (H + p // 2, H + p // 2)), mode=\"reflect\"\n",
    ")"
   ]
  },
  {
   "cell_type": "markdown",
   "metadata": {
    "id": "4c2rIFvSIaUP"
   },
   "source": [
    "Main loop\n"
   ]
  },
  {
   "cell_type": "code",
   "execution_count": null,
   "metadata": {
    "id": "kuFjroAWIcSr"
   },
   "outputs": [],
   "source": [
    "# filtering parameter\n",
    "h = 0.1\n",
    "for i in range(0, imsz[0]):\n",
    "    for j in range(0, imsz[1]):\n",
    "        # extract the patch from img_pad whose center has the location (i, j) in the noisy image\n",
    "        s = img_pad[i + H : i + H + p, j + H : j + H + p]\n",
    "\n",
    "        # initialize the pixel estimate and the total weights\n",
    "        pixel_hat = 0\n",
    "        weight = 0\n",
    "\n",
    "        # extract all the patches in the search neighborhood\n",
    "        for r in range(max(0, i - H), min(imsz[0], i + H + 1)):\n",
    "            for c in range(max(0, j - H), min(imsz[1], j + H + 1)):\n",
    "                # extract the patch\n",
    "                z = img_pad[r + H : r + H + p, c + H : c + H + p]\n",
    "\n",
    "                # compute the distance with the reference patch\n",
    "                d = np.sum((s - z) ** 2) / M\n",
    "\n",
    "                # compute the weight\n",
    "                w = np.exp(-d / (h**2))\n",
    "\n",
    "                # update the weight and the pixel estimate\n",
    "                pixel_hat += w * noisy_img[r, c]\n",
    "                weight += w\n",
    "\n",
    "        # estimate the pixel (i, j) as the weighted average of the central pixel of the extracted patches\n",
    "        img_hat[i, j] = pixel_hat / weight"
   ]
  },
  {
   "cell_type": "markdown",
   "metadata": {
    "id": "S7ItjKLoIy1M"
   },
   "source": [
    "Compute the PSNR of the estimated image\n"
   ]
  },
  {
   "cell_type": "code",
   "execution_count": null,
   "metadata": {
    "id": "EuwTIEL3I1Ki"
   },
   "outputs": [],
   "source": [
    "psnr_hat = 10 * np.log10(1 / np.mean((img_hat - img) ** 2))\n",
    "plt.figure(figsize=(10, 10))\n",
    "plt.imshow(img_hat, cmap=\"gray\")\n",
    "plt.title(f\"Estimated Image,\\nPSNR = {psnr_hat:.2f}\")\n",
    "\n",
    "\n"
   ]
  }
 ],
 "metadata": {
  "colab": {
   "provenance": []
  },
  "kernelspec": {
   "display_name": "Image_processing_notes",
   "language": "python",
   "name": "python3"
  },
  "language_info": {
   "codemirror_mode": {
    "name": "ipython",
    "version": 3
   },
   "file_extension": ".py",
   "mimetype": "text/x-python",
   "name": "python",
   "nbconvert_exporter": "python",
   "pygments_lexer": "ipython3",
   "version": "3.13.4"
  }
 },
 "nbformat": 4,
 "nbformat_minor": 0
}
