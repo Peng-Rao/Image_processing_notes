{
 "cells": [
  {
   "cell_type": "code",
   "execution_count": null,
   "metadata": {
    "id": "opwp5eU9E-8f"
   },
   "outputs": [],
   "source": [
    "from skimage.io import imread\n",
    "import numpy as np\n",
    "from scipy.io import loadmat\n",
    "from matplotlib import pyplot as plt\n",
    "import time\n"
   ]
  },
  {
   "cell_type": "code",
   "execution_count": null,
   "metadata": {
    "id": "N0H_uNYDFo9a"
   },
   "outputs": [],
   "source": [
    "rootfolder = '.'"
   ]
  },
  {
   "cell_type": "markdown",
   "metadata": {
    "id": "Cq78PWSDFw7G"
   },
   "source": [
    "Load the image and rescale it in $[0,1]$"
   ]
  },
  {
   "cell_type": "code",
   "execution_count": null,
   "metadata": {
    "id": "PHuWhKkwFdIR"
   },
   "outputs": [],
   "source": [
    "img = imread(f'{rootfolder}/data/cameraman.png') / 255\n",
    "img = img[50:200, 50:200]\n",
    "imsz = img.shape\n",
    "\n",
    "# patch size\n",
    "p = 7\n",
    "\n",
    "# number of elements in the patch\n",
    "M = p ** 2\n",
    "\n",
    "# radius of the search neighborhood\n",
    "H = 12\n"
   ]
  },
  {
   "cell_type": "markdown",
   "metadata": {
    "id": "KRBSmSG5GIPe"
   },
   "source": [
    "Corrupt the image with white gaussian noise"
   ]
  },
  {
   "cell_type": "code",
   "execution_count": null,
   "metadata": {
    "id": "m1NfJRxKGKFu"
   },
   "outputs": [],
   "source": [
    "sigma_noise = 20/255\n",
    "# noisy_img ="
   ]
  },
  {
   "cell_type": "markdown",
   "metadata": {
    "id": "Y4O1zq_JGPeL"
   },
   "source": [
    "Compute the PSNR of the noisy input"
   ]
  },
  {
   "cell_type": "code",
   "execution_count": null,
   "metadata": {
    "id": "9OtzbfA_GRIA"
   },
   "outputs": [],
   "source": [
    "# psnr_noisy =\n"
   ]
  },
  {
   "cell_type": "code",
   "execution_count": null,
   "metadata": {
    "id": "oMQ-c73WGT6f"
   },
   "outputs": [],
   "source": [
    "fig, ax = plt.subplots(1, 2, figsize=(20, 10))\n",
    "ax[0].imshow(img, cmap='gray')\n",
    "ax[0].set_title('Original image')\n",
    "\n",
    "ax[1].imshow(noisy_img, cmap='gray')\n",
    "ax[1].set_title(f'Noisy image, PSNR = {psnr_noisy:.2f}')\n"
   ]
  },
  {
   "cell_type": "markdown",
   "metadata": {
    "id": "rEEitk8qIUeE"
   },
   "source": [
    "Pixel-based NL-Means\n",
    "--------------------\n",
    "Set parameters and initialize the variables"
   ]
  },
  {
   "cell_type": "code",
   "execution_count": null,
   "metadata": {
    "id": "Hk2qJgl_ISwt"
   },
   "outputs": [],
   "source": [
    "# initialize the estimated image\n",
    "img_hat = np.zeros_like(img)\n",
    "\n",
    "# pad the noisy image\n",
    "# img_pad =\n"
   ]
  },
  {
   "cell_type": "markdown",
   "metadata": {
    "id": "4c2rIFvSIaUP"
   },
   "source": [
    "Main loop"
   ]
  },
  {
   "cell_type": "code",
   "execution_count": null,
   "metadata": {
    "id": "kuFjroAWIcSr"
   },
   "outputs": [],
   "source": [
    "for i in range(0, imsz[0]):\n",
    "    for j in range(0, imsz[1]):\n",
    "        # extrach the patch from img_pad whose center has the location (i, j) in the noisy image\n",
    "        # s =\n",
    "\n",
    "        # initialize the pixel estimate and the total weights\n",
    "        pixel_hat = 0\n",
    "        weight = 0\n",
    "\n",
    "        # extract all the patches in the search neighborhood\n",
    "#        for r\n",
    "#            for c\n",
    "                # extract the patch\n",
    "                # z =\n",
    "\n",
    "                # compute the distance with the reference patch\n",
    "                # d =\n",
    "\n",
    "                # update the weight and the pixel estimate\n",
    "                # pixel_hat\n",
    "                # weight\n",
    "\n",
    "        # estimate the pixel (i, j) as the weighted average of the central pixel of the extracted patches\n",
    "        # img_hat[i, j] =\n"
   ]
  },
  {
   "cell_type": "markdown",
   "metadata": {
    "id": "S7ItjKLoIy1M"
   },
   "source": [
    "Compute the PSNR of the estimated image"
   ]
  },
  {
   "cell_type": "code",
   "execution_count": null,
   "metadata": {
    "id": "EuwTIEL3I1Ki"
   },
   "outputs": [],
   "source": [
    "# psnr_hat =\n",
    "plt.figure(figsize=(10,10))\n",
    "plt.imshow(img_hat, cmap='gray')\n",
    "plt.title(f'Estimated Image,\\nPSNR = {psnr_hat:.2f}')\n"
   ]
  }
 ],
 "metadata": {
  "colab": {
   "provenance": []
  },
  "kernelspec": {
   "display_name": "Python 3",
   "name": "python3"
  },
  "language_info": {
   "name": "python"
  }
 },
 "nbformat": 4,
 "nbformat_minor": 0
}
