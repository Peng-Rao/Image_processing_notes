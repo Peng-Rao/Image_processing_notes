{
 "cells": [
  {
   "cell_type": "code",
   "execution_count": null,
   "metadata": {
    "id": "_oVFv1gmYqBI"
   },
   "outputs": [],
   "source": [
    "import numpy as np\n",
    "from matplotlib import pyplot as plt\n",
    "from scipy.stats import median_abs_deviation as mad\n",
    "\n",
    "%matplotlib inline\n",
    "%config InlineBackend.figure_format='retina'"
   ]
  },
  {
   "cell_type": "markdown",
   "metadata": {
    "id": "220iCa0GYuqi"
   },
   "source": [
    "Useful function for the plot\n"
   ]
  },
  {
   "cell_type": "code",
   "execution_count": null,
   "metadata": {
    "id": "lDsdahk2YwYb"
   },
   "outputs": [],
   "source": [
    "def display_band(X, par, epsi=0.001, col=\"k\"):\n",
    "    x1 = np.min(X[0, :])\n",
    "    x2 = np.max(X[0, :])\n",
    "    y1 = np.min(X[1, :])\n",
    "    y2 = np.max(X[1, :])\n",
    "\n",
    "    # extend the line for the k# of its lenght\n",
    "    k = 0.01\n",
    "    dx = x2 - x1\n",
    "    dy = y2 - y1\n",
    "    l = np.sqrt(dx**2 + dy**2)\n",
    "    x1 = x1 - k * l\n",
    "    x2 = x2 + k * l\n",
    "    y1 = y1 - k * l\n",
    "    y2 = y2 + k * l\n",
    "    ##\n",
    "    if np.abs(par[1]) < 2e-2:\n",
    "        # disp('vertical line')\n",
    "        a = np.vstack([-(par[1] * y1 + par[2]) / par[0], y1])\n",
    "        b = np.vstack([-(par[1] * y2 + par[2]) / par[0], y2])\n",
    "    else:\n",
    "        a = np.vstack([x1, -(par[0] * x1 + par[2]) / par[1]])\n",
    "        b = np.vstack([x2, -(par[0] * x2 + par[2]) / par[1]])\n",
    "\n",
    "    if np.abs(par[0]) < 1e-5:\n",
    "        v = np.array([0, 1])\n",
    "    else:\n",
    "        v = np.array([1, par[1] / par[0]])  # direction perpendicular to the line;\n",
    "\n",
    "    v = v / np.sqrt(np.sum(v**2))\n",
    "    # corners of the bands\n",
    "    v = v[:, np.newaxis]\n",
    "    a1 = a - epsi * v\n",
    "    a2 = a + epsi * v\n",
    "    b1 = b - epsi * v\n",
    "    b2 = b + epsi * v\n",
    "\n",
    "    px = np.array([a1[0], b1[0], b2[0], a2[0]]).squeeze()\n",
    "    py = np.array([a1[1], b1[1], b2[1], a2[1]]).squeeze()\n",
    "    plt.tricontourf(px, py, np.ones_like(px), colors=col, alpha=0.5)\n",
    "    plt.gca().set_aspect(\"equal\")"
   ]
  },
  {
   "cell_type": "markdown",
   "metadata": {
    "id": "HLaSC6YRYxeu"
   },
   "source": [
    "Function that computes the residual between points and a line\n"
   ]
  },
  {
   "cell_type": "code",
   "execution_count": null,
   "metadata": {
    "id": "fWOC3YBgY2KN"
   },
   "outputs": [],
   "source": [
    "def res_line(X, M):\n",
    "    if len(M.shape) > 1:\n",
    "        num_lines = M.shape[1]\n",
    "    else:\n",
    "        num_lines = 1\n",
    "\n",
    "    if num_lines == 1:\n",
    "        d = np.abs(M[0] * X[0, :] + M[1] * X[1, :] + M[2])\n",
    "    else:\n",
    "        n = X.shape[1]\n",
    "        d = np.zeros((n, num_lines))\n",
    "        for i in range(num_lines):\n",
    "            d[:, i] = np.abs(M[0, i] * X[0, :] + M[1, i] * X[1, :] + M[2, i])\n",
    "\n",
    "    return d"
   ]
  },
  {
   "cell_type": "markdown",
   "metadata": {
    "id": "lJoHOD3VY86w"
   },
   "source": [
    "Implement the following function, that computes the solution of the overdetermined system\n",
    "\n",
    "$$\\underset{A}{\\text{argmin}} \\| A\\mathbf x - \\mathbf y\\|_2^2$$\n",
    "\n",
    "via OLS and DLT\n",
    "\n",
    "The input $P=[[x_1, y_1], \\dots,[x_N,y_N]]$ collects the points where the line $y = mx+q$ should pass through\n"
   ]
  },
  {
   "cell_type": "code",
   "execution_count": null,
   "metadata": {
    "id": "T0LJu3mcY8el"
   },
   "outputs": [],
   "source": [
    "def fit_line_ols(P):\n",
    "    # design matrix\n",
    "    A = np.column_stack([P[:, 0], np.ones(P.shape[0])])\n",
    "    # vector of responses\n",
    "    y = P[:, 1]\n",
    "\n",
    "    # straight line coefficient\n",
    "    theta = np.linalg.lstsq(A, y, rcond=None)[0]\n",
    "\n",
    "    residuals = y - A @ theta\n",
    "    residual_error = np.sum(residuals**2)\n",
    "    return theta, residuals, residual_error"
   ]
  },
  {
   "cell_type": "code",
   "execution_count": null,
   "metadata": {
    "id": "2rd8V9xXa9u2"
   },
   "outputs": [],
   "source": [
    "def fit_line_dlt(P):\n",
    "    # design matrix for ax + by + c = 0\n",
    "    A = np.column_stack([P[:, 0], P[:, 1], np.ones(P.shape[0])])\n",
    "\n",
    "    # SVD\n",
    "    _, _, Vt = np.linalg.svd(A)\n",
    "\n",
    "    # theta is the last column of V (last row of Vt)\n",
    "    theta = Vt[-1, :]\n",
    "\n",
    "    residuals = A @ theta\n",
    "    residual_error = np.sum(residuals**2)\n",
    "\n",
    "    return theta, residuals, residual_error"
   ]
  },
  {
   "cell_type": "markdown",
   "metadata": {
    "id": "6hPNqD9lbMYH"
   },
   "source": [
    "## Robust Fitting Methods\n",
    "\n",
    "Implements the following methods:\n"
   ]
  },
  {
   "cell_type": "code",
   "execution_count": null,
   "metadata": {
    "id": "PgO8DEbqbTM-"
   },
   "outputs": [],
   "source": [
    "def simpleRANSAC(X, eps, cardmss=2):\n",
    "    # number of samples in the dataset\n",
    "    n = X.shape[1]\n",
    "    # Desired probability of success\n",
    "    alpha = 0.99\n",
    "\n",
    "    # Pessimistic estimate of inliers fraction\n",
    "    f = 0.5\n",
    "\n",
    "    # set maximum number of iterations\n",
    "    MaxIterations = int(np.log(1 - alpha) / np.log(1 - f**cardmss))\n",
    "\n",
    "    # set maximum consensus reached\n",
    "    maxscore = 0\n",
    "\n",
    "    for i in range(MaxIterations):\n",
    "        # Generate cardmss random indices in the range 0..n-1\n",
    "        mss = np.random.choice(n, cardmss, replace=False)\n",
    "\n",
    "        # Fit model to this minimal sample set.\n",
    "        P_mss = X[:, mss].T\n",
    "        theta, _, _ = fit_line_dlt(P_mss)\n",
    "\n",
    "        # Evaluate distances between points and model\n",
    "        sqres = res_line(X, theta) ** 2\n",
    "\n",
    "        # identify inliers: consensus set\n",
    "        inliers = np.where(sqres <= eps**2)[0]\n",
    "\n",
    "        # assess consensus (the number of inliers)\n",
    "        score = len(inliers)\n",
    "\n",
    "        # replace maxscore, bestinliers and bestmodel if needed\n",
    "        if score > maxscore:\n",
    "            maxscore = score\n",
    "            bestinliers = inliers\n",
    "            bestmodel = theta\n",
    "\n",
    "    return bestmodel, bestinliers"
   ]
  },
  {
   "cell_type": "code",
   "execution_count": null,
   "metadata": {
    "id": "GYmX-Aoubblu"
   },
   "outputs": [],
   "source": [
    "def simpleMSAC(X, eps, cardmss=2):\n",
    "    n = X.shape[1]\n",
    "    alpha = 0.99  # Desired probability of success\n",
    "    f = 0.5  # Pessimistic estimate of inliers fraction\n",
    "\n",
    "    # set maximum number of iterations\n",
    "    MaxIterations = int(np.log(1 - alpha) / np.log(1 - f**cardmss))\n",
    "\n",
    "    # set maximum consensus reached\n",
    "    mincost = np.inf\n",
    "\n",
    "    for i in range(MaxIterations):\n",
    "        # Generate cardmss random indices in the range 0..n-1\n",
    "        mss = np.random.choice(n, cardmss, replace=False)\n",
    "\n",
    "        # Fit model to this minimal sample set.\n",
    "        P_mss = X[:, mss].T\n",
    "        theta, _, _ = fit_line_dlt(P_mss)\n",
    "\n",
    "        # Evaluate distances between points and model\n",
    "        sqres = res_line(X, theta) ** 2\n",
    "\n",
    "        # identify inliers: consensus set\n",
    "        inliers = np.where(sqres <= eps**2)[0]\n",
    "\n",
    "        # Compute MSAC score\n",
    "        cost = np.sum(np.minimum(sqres, eps**2))\n",
    "\n",
    "        # replace mincost, bestinliers and bestmodel if needed\n",
    "        if cost < mincost:\n",
    "            mincost = cost\n",
    "            bestinliers = inliers\n",
    "            bestmodel = theta\n",
    "\n",
    "    return bestmodel, bestinliers"
   ]
  },
  {
   "cell_type": "code",
   "execution_count": null,
   "metadata": {
    "id": "g2PkbyHfbnff"
   },
   "outputs": [],
   "source": [
    "def simpleLMEDS(X, cardmss=2):\n",
    "    n = X.shape[1]\n",
    "    alpha = 0.99  # Desired probability of success\n",
    "    f = 0.5  # Pessimistic estimate of inliers fraction\n",
    "\n",
    "    # set maximum number of iterations\n",
    "    MaxIterations = int(np.log(1 - alpha) / np.log(1 - f**cardmss))\n",
    "\n",
    "    # set maximum consensus reached\n",
    "    mincost = np.inf\n",
    "\n",
    "    for i in range(MaxIterations):\n",
    "        # Generate cardmss random indicies in the range 0..n-1\n",
    "        mss = np.random.choice(n, cardmss, replace=False)\n",
    "\n",
    "        # Fit model to this minimal sample set.\n",
    "        P_mss = X[:, mss].T\n",
    "        theta, _, _ = fit_line_dlt(P_mss)\n",
    "\n",
    "        # Evaluate distances between points and model\n",
    "        sqres = res_line(X, theta) ** 2\n",
    "\n",
    "        # Compute LMS score\n",
    "        cost = np.median(sqres)\n",
    "\n",
    "        # define inliner threshold (does make sense only when the model provides a good fit)\n",
    "        # compute the standard deviation of distances (you can use MAD)\n",
    "        scale = mad(sqres) ** 2\n",
    "\n",
    "        # instead of 3-sigma rule, we do 2.5-sigma rule. sqres is already squares\n",
    "        inliers = np.where(sqres < 2.5 * scale)[0]\n",
    "\n",
    "        # replace mincost, bestinliers and bestmodel if needed\n",
    "        if cost < mincost:\n",
    "            mincost = cost\n",
    "            bestinliers = inliers\n",
    "            bestmodel = theta\n",
    "\n",
    "    return bestmodel, bestinliers"
   ]
  },
  {
   "cell_type": "markdown",
   "metadata": {
    "id": "Et7mNaaqbx-N"
   },
   "source": [
    "## Fitting over noisy data\n",
    "\n",
    "Set the parameters and generate the dataset\n"
   ]
  },
  {
   "cell_type": "code",
   "execution_count": null,
   "metadata": {
    "id": "QM7aTHVHb2yk"
   },
   "outputs": [],
   "source": [
    "cardmss = 2  # minimum number of points required to fit a model\n",
    "\n",
    "# plotting params\n",
    "BAND_WIDTH = 0.05\n",
    "BAND_COLOR = \"b\"\n",
    "\n",
    "# create noisy dataset\n",
    "x = np.linspace(0, 1, 100)\n",
    "y = 1.5 * x + 1\n",
    "X = np.vstack((x, y))\n",
    "sigma = 0.01\n",
    "X = X + sigma * np.random.normal(size=X.shape)"
   ]
  },
  {
   "cell_type": "markdown",
   "metadata": {
    "id": "gRDxo4GSb5jN"
   },
   "source": [
    "Least square fit to noisy data\n"
   ]
  },
  {
   "cell_type": "code",
   "execution_count": null,
   "metadata": {
    "id": "ZK2bUp6-b9XU"
   },
   "outputs": [],
   "source": [
    "model_OLS, _, _ = fit_line_ols(X.T)\n",
    "plt.figure()\n",
    "plt.scatter(X[0, :], X[1, :])\n",
    "plt.plot([0, 1], [model_OLS[1], model_OLS[0] + model_OLS[1]], \"violet\", linewidth=3)\n",
    "plt.title(\"ls model\")\n",
    "plt.show()"
   ]
  },
  {
   "cell_type": "markdown",
   "metadata": {
    "id": "syOCbX7mcBZn"
   },
   "source": [
    "Least square fit via DLT (different model parametrization)\n"
   ]
  },
  {
   "cell_type": "code",
   "execution_count": null,
   "metadata": {
    "id": "Em1B0bIGcC51"
   },
   "outputs": [],
   "source": [
    "model_DLT, _, _ = fit_line_dlt(X.T)\n",
    "plt.figure(figsize=(15, 5))\n",
    "plt.scatter(X[0, :], X[1, :])\n",
    "display_band(X, model_DLT, BAND_WIDTH, BAND_COLOR)\n",
    "plt.title(\"dlt model\")\n",
    "plt.show()"
   ]
  },
  {
   "cell_type": "markdown",
   "metadata": {
    "id": "o0_h-LoFcJEG"
   },
   "source": [
    "Add a single outlier to the data, obtaining a new dataset $X_{out}$\n"
   ]
  },
  {
   "cell_type": "code",
   "execution_count": null,
   "metadata": {
    "id": "4qVzH_I7cLe1"
   },
   "outputs": [],
   "source": [
    "X_out = np.column_stack([X, np.array([[0.5], [0.2]])])"
   ]
  },
  {
   "cell_type": "markdown",
   "metadata": {
    "id": "8fkiOOXzcNSI"
   },
   "source": [
    "Least square fit to noisy data with a single outlier\n"
   ]
  },
  {
   "cell_type": "code",
   "execution_count": null,
   "metadata": {
    "id": "NU5_9ju_cRoN"
   },
   "outputs": [],
   "source": [
    "model_OLS, _, _ = fit_line_ols(X_out.T)\n",
    "plt.figure()\n",
    "plt.scatter(X_out[0, :], X_out[1, :])\n",
    "plt.plot([0, 1], [model_OLS[1], model_OLS[0] + model_OLS[1]], \"violet\", linewidth=3)\n",
    "plt.title(\"ls model\")\n",
    "plt.show()"
   ]
  },
  {
   "cell_type": "markdown",
   "metadata": {
    "id": "BoRf1iY8cW-Y"
   },
   "source": [
    "Least square fit via DLT to noisy data with a single outlier\n"
   ]
  },
  {
   "cell_type": "code",
   "execution_count": null,
   "metadata": {
    "id": "fTGz0wuecUbH"
   },
   "outputs": [],
   "source": [
    "model_DLT, _, _ = fit_line_dlt(X_out.T)\n",
    "\n",
    "plt.figure()\n",
    "plt.scatter(X_out[0, :], X_out[1, :])\n",
    "display_band(X_out, model_DLT, BAND_WIDTH, BAND_COLOR)\n",
    "plt.title(\"dlt model with outliers\")\n",
    "plt.show()"
   ]
  },
  {
   "cell_type": "markdown",
   "metadata": {
    "id": "PkDc1bccccwV"
   },
   "source": [
    "Add many outliers to the noisy data\n"
   ]
  },
  {
   "cell_type": "code",
   "execution_count": null,
   "metadata": {
    "id": "-mUtLIjRcgVJ"
   },
   "outputs": [],
   "source": [
    "n_out = 50\n",
    "outlier_x = np.random.uniform(0, 1, size=n_out)\n",
    "outlier_y = np.random.uniform(1, 2.5, size=n_out)\n",
    "X_outliers = np.vstack((outlier_x, outlier_y))\n",
    "X_out = np.hstack((X, X_outliers))"
   ]
  },
  {
   "cell_type": "markdown",
   "metadata": {
    "id": "nnN1qFwxchc-"
   },
   "source": [
    "Least square fit\n"
   ]
  },
  {
   "cell_type": "code",
   "execution_count": null,
   "metadata": {
    "id": "0gcN-_vXcjNP"
   },
   "outputs": [],
   "source": [
    "model_OLS, _, _ = fit_line_ols(X_out.T)\n",
    "\n",
    "plt.figure()\n",
    "plt.scatter(X_out[0, :], X_out[1, :])\n",
    "plt.plot([0, 1], [model_OLS[1], model_OLS[0] + model_OLS[1]], \"violet\", linewidth=3)\n",
    "plt.title(\"ls model\")\n",
    "plt.show()"
   ]
  },
  {
   "cell_type": "markdown",
   "metadata": {
    "id": "w5UEREX9cl2P"
   },
   "source": [
    "Least square via DLT\n"
   ]
  },
  {
   "cell_type": "code",
   "execution_count": null,
   "metadata": {
    "id": "rL-kokX2cnL2"
   },
   "outputs": [],
   "source": [
    "model_DLT, _, _ = fit_line_dlt(X_out.T)\n",
    "\n",
    "plt.figure()\n",
    "plt.scatter(X_out[0, :], X_out[1, :])\n",
    "display_band(X_out, model_DLT, BAND_WIDTH, BAND_COLOR)\n",
    "plt.title(\"noisy and outlier contaminated data\")\n",
    "plt.show()"
   ]
  },
  {
   "cell_type": "markdown",
   "metadata": {
    "id": "vCVz8AnlcqkA"
   },
   "source": [
    "## Robust Fitting methods\n",
    "\n",
    "Use Ransac, M-Sac and L-Meds to perform fitting on data with many outliers\n",
    "\n",
    "Ransac:\n"
   ]
  },
  {
   "cell_type": "code",
   "execution_count": null,
   "metadata": {
    "id": "oXHyE61ic3p1"
   },
   "outputs": [],
   "source": [
    "epsi = 3 * sigma  # define inlier threshold\n",
    "\n",
    "# invoke simpleRANSAC\n",
    "bestmodel, bestinliers = simpleRANSAC(X_out, epsi)\n",
    "\n",
    "# refine model estimates\n",
    "refinedModel, _, _ = fit_line_dlt(X_out[:, bestinliers].T)\n",
    "\n",
    "plt.figure()\n",
    "plt.scatter(X_out[0, :], X_out[1, :])\n",
    "display_band(X_out, refinedModel, epsi, BAND_COLOR)\n",
    "plt.title(\"ransac model\")\n",
    "plt.show()"
   ]
  },
  {
   "cell_type": "markdown",
   "metadata": {
    "id": "xUEq9xMKc_pK"
   },
   "source": [
    "M-Sac:\n"
   ]
  },
  {
   "cell_type": "code",
   "execution_count": null,
   "metadata": {
    "id": "n25Lsee1dA8c"
   },
   "outputs": [],
   "source": [
    "bestmodel, bestinliers = simpleMSAC(X_out, epsi)\n",
    "\n",
    "# refine model estimates\n",
    "refinedModel, _, _ = fit_line_dlt(X_out[:, bestinliers].T)\n",
    "\n",
    "plt.figure()\n",
    "plt.scatter(X_out[0, :], X_out[1, :])\n",
    "display_band(X_out, refinedModel, epsi, BAND_COLOR)\n",
    "plt.title(\"MSAC model\")\n",
    "plt.show()"
   ]
  },
  {
   "cell_type": "markdown",
   "metadata": {
    "id": "Lqqh7XW4dGOV"
   },
   "source": [
    "L-Meds:\n"
   ]
  },
  {
   "cell_type": "code",
   "execution_count": null,
   "metadata": {
    "id": "odh41cnsdHXO"
   },
   "outputs": [],
   "source": [
    "# invoke simpleLMEDS\n",
    "bestmodel, bestinliers = simpleLMEDS(X_out)\n",
    "\n",
    "# refine model estimates\n",
    "refinedModel, _, _ = fit_line_dlt(X_out[:, bestinliers].T)\n",
    "\n",
    "plt.figure()\n",
    "plt.scatter(X_out[0, :], X_out[1, :])\n",
    "display_band(X_out, refinedModel, epsi, BAND_COLOR)\n",
    "plt.title(\"lmeds model\")\n",
    "plt.show()\n"
   ]
  }
 ],
 "metadata": {
  "colab": {
   "authorship_tag": "ABX9TyPIV7A7Z93EEE31KnzvPj9r",
   "provenance": []
  },
  "kernelspec": {
   "display_name": "Image_processing_notes",
   "language": "python",
   "name": "python3"
  },
  "language_info": {
   "codemirror_mode": {
    "name": "ipython",
    "version": 3
   },
   "file_extension": ".py",
   "mimetype": "text/x-python",
   "name": "python",
   "nbconvert_exporter": "python",
   "pygments_lexer": "ipython3",
   "version": "3.13.4"
  }
 },
 "nbformat": 4,
 "nbformat_minor": 0
}
