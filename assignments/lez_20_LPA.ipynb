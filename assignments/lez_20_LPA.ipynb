{
 "cells": [
  {
   "cell_type": "code",
   "execution_count": null,
   "metadata": {
    "id": "pLAA3Lj3GLtp"
   },
   "outputs": [],
   "source": [
    "import numpy as np\n",
    "from matplotlib import pyplot as plt\n",
    "from scipy.signal import convolve"
   ]
  },
  {
   "cell_type": "markdown",
   "metadata": {
    "id": "Be43ir2EHcSE"
   },
   "source": [
    "Local Polynomial Approximation\n",
    "-------------------------------\n",
    "Set the parameters"
   ]
  },
  {
   "cell_type": "code",
   "execution_count": null,
   "metadata": {
    "id": "8Sh4rbXeHh_E"
   },
   "outputs": [],
   "source": [
    "# maximum degree of polynomial used for fitting\n",
    "N = 2\n",
    "\n",
    "# filter size\n",
    "M = 51\n",
    "\n",
    "# large M, small N -> a lot of bias when frequency increases\n",
    "# N = 2\n",
    "# M = 51\n",
    "\n",
    "# large M, large N -> smaller bias than before, but a lot of variance in smooth regions\n",
    "# N = 7\n",
    "# M = 51\n",
    "\n",
    "# small M, small N -> smaller bias everywhere, higher variance\n",
    "# N = 2\n",
    "# M = 5\n",
    "\n",
    "# M small, M = N,  -> smaller bias than before, higher variance than before\n",
    "# N = 5\n",
    "# N = M"
   ]
  },
  {
   "cell_type": "markdown",
   "metadata": {
    "id": "qjOQIg-ZHpTc"
   },
   "source": [
    "Generate synthetic signal signal"
   ]
  },
  {
   "cell_type": "code",
   "execution_count": null,
   "metadata": {
    "id": "-IZ3t2qiHoOY"
   },
   "outputs": [],
   "source": [
    "LENGHT = 1000\n",
    "\n",
    "ty = np.linspace(0, 1, LENGHT)\n",
    "y = np.sin(2 / (ty + 0.05))\n",
    "\n",
    "#  noise standard deviation\n",
    "sigma = 0.1\n",
    "\n",
    "# noisy signal\n",
    "s = y + sigma*np.random.normal(size=LENGHT)\n"
   ]
  },
  {
   "cell_type": "code",
   "execution_count": null,
   "metadata": {
    "id": "NXdKkXicH8-8"
   },
   "outputs": [],
   "source": [
    "plt.figure()\n",
    "plt.plot(ty, s, 'r.')\n",
    "plt.plot(ty, y, 'k--', linewidth=2)\n",
    "plt.grid()\n",
    "plt.legend(['noisy', 'original'])\n",
    "plt.title('Input Signal')"
   ]
  },
  {
   "cell_type": "markdown",
   "metadata": {
    "id": "UIuAti80FmuZ"
   },
   "source": [
    "Define the matrix T containing the polynomials sampled over the window\n"
   ]
  },
  {
   "cell_type": "code",
   "execution_count": null,
   "metadata": {
    "id": "Dc9sfew3FpYd"
   },
   "outputs": [],
   "source": [
    "#t = \n",
    "#T = \n"
   ]
  },
  {
   "cell_type": "markdown",
   "metadata": {
    "id": "obYqSolRFswW"
   },
   "source": [
    "Look at the matrix T, the columns correspond to polynomials sampled over the interval [0,1]\n"
   ]
  },
  {
   "cell_type": "code",
   "execution_count": null,
   "metadata": {
    "id": "JF4VvuuIFsMl"
   },
   "outputs": [],
   "source": [
    "plt.figure()\n",
    "leg = []\n",
    "for l in range(N+1):\n",
    "    plt.plot(t, T[:, l])\n",
    "    leg.append(f't^{l:d}')\n",
    "plt.legend(leg)"
   ]
  },
  {
   "cell_type": "markdown",
   "metadata": {
    "id": "kGjvIyk7F2O8"
   },
   "source": [
    "Construct the LPA kernel"
   ]
  },
  {
   "cell_type": "code",
   "execution_count": null,
   "metadata": {
    "id": "qmcJp0hHF45C"
   },
   "outputs": [],
   "source": [
    "# comput the qr decomposition of WT\n",
    "# since T has more rows than columns, then qr computes only the first N + 1 columns of Q and the first N + 1 rows of R.\n",
    "# Q, R = \n",
    "\n",
    "# select the central row of W2Qtilde\n",
    "# row = \n",
    "\n",
    "# compute the kernel\n",
    "# g = \n",
    "\n",
    "# flipping, since it is used in convolution\n",
    "# g = "
   ]
  },
  {
   "cell_type": "code",
   "execution_count": null,
   "metadata": {
    "id": "a0ARJwssF7-a"
   },
   "outputs": [],
   "source": [
    "plt.figure()\n",
    "plt.plot(g, 'rs', linewidth=3)\n",
    "plt.title(f'M = {M:d}, N = {N:d}')\n"
   ]
  },
  {
   "cell_type": "markdown",
   "metadata": {
    "id": "zvqRD4lAF_C9"
   },
   "source": [
    "Filtering"
   ]
  },
  {
   "cell_type": "code",
   "execution_count": null,
   "metadata": {
    "id": "vcIj4kRMGEK3"
   },
   "outputs": [],
   "source": [
    "# shat = "
   ]
  },
  {
   "cell_type": "code",
   "execution_count": null,
   "metadata": {
    "id": "_n60LNsTGGzo"
   },
   "outputs": [],
   "source": [
    "plt.figure(figsize=(10,10))\n",
    "plt.plot(ty, s, 'r.')\n",
    "plt.plot(ty, y, 'k--', linewidth=3)\n",
    "plt.plot(ty, shat, 'm-', linewidth=3)\n",
    "plt.grid()\n",
    "plt.legend(['noisy', 'original', 'LPA estimate'])\n",
    "plt.title(f'M = {M:d}, N = {N:d}')\n"
   ]
  },
  {
   "cell_type": "markdown",
   "metadata": {
    "id": "kMS-uet-GPXj"
   },
   "source": [
    "Weighted LPA\n",
    "--------------\n",
    "Set the parameters"
   ]
  },
  {
   "cell_type": "code",
   "execution_count": null,
   "metadata": {
    "id": "bSncDgUQGWbJ"
   },
   "outputs": [],
   "source": [
    "# maximum degree of polynomial used for fitting\n",
    "N = 1\n",
    "\n",
    "# filter size\n",
    "M = 53\n",
    "\n",
    "# half filter size\n",
    "HFS = int((M-1)/2)\n",
    "\n",
    "# set the weights. Here weights simply define the window size\n",
    "w = np.zeros(M)\n",
    "\n",
    "# centered kernel\n",
    "wc = w.copy()\n",
    "wc[int(HFS/2):-int(HFS/2)] = 1\n",
    "\n",
    "# left kernel\n",
    "wl = w.copy()\n",
    "wl[:HFS+1] = 1\n",
    "\n",
    "# right kernel\n",
    "wr = w.copy()\n",
    "wr[-HFS-1:] = 1\n"
   ]
  },
  {
   "cell_type": "code",
   "execution_count": null,
   "metadata": {
    "id": "8mBILPP5GbDg"
   },
   "outputs": [],
   "source": [
    "fig, ax = plt.subplots(3, 1, figsize=(10,10))\n",
    "ax[0].plot(wc, 'rs', linewidth=3)\n",
    "ax[0].set_title('centered weights')\n",
    "ax[0].grid()\n",
    "ax[1].plot(wl, 'bs', linewidth=3)\n",
    "ax[1].set_title('left weights')\n",
    "ax[1].grid()\n",
    "ax[2].plot(wr, 'ms', linewidth=3)\n",
    "ax[2].set_title('right weights')\n",
    "ax[2].grid()\n"
   ]
  },
  {
   "cell_type": "markdown",
   "metadata": {
    "id": "5sNIpgrVGnhA"
   },
   "source": [
    "Build the weight matrix"
   ]
  },
  {
   "cell_type": "code",
   "execution_count": null,
   "metadata": {
    "id": "tumd6cwcGplT"
   },
   "outputs": [],
   "source": [
    "# select a single weight to be used in what follows\n",
    "w = wc\n",
    "\n",
    "# generate the inverse of weights\n",
    "# winv = \n",
    "\n",
    "# set to zero weights that are inf\n",
    "# winv...\n",
    "\n",
    "# define the weight matrix\n",
    "# W = \n",
    "# Winv = "
   ]
  },
  {
   "cell_type": "markdown",
   "metadata": {
    "id": "IitnP4AZGu8Y"
   },
   "source": [
    "Generate synthetic signal signal"
   ]
  },
  {
   "cell_type": "code",
   "execution_count": null,
   "metadata": {
    "id": "o8Va5KaMG3VN"
   },
   "outputs": [],
   "source": [
    "LENGHT = 1000\n",
    "\n",
    "# clean signal\n",
    "ty = np.linspace(0, 1, LENGHT)\n",
    "y =  8*ty**2 - 2*ty + 2;\n",
    "y[LENGHT//2 : LENGHT] = y[LENGHT//2 : LENGHT] + 7;\n",
    "\n",
    "#  noise standard deviation\n",
    "sigma = 0.2\n",
    "\n",
    "# noisy signal\n",
    "s = y + sigma*np.random.normal(size=LENGHT)"
   ]
  },
  {
   "cell_type": "code",
   "execution_count": null,
   "metadata": {
    "id": "xBzoHZbrG8g3"
   },
   "outputs": [],
   "source": [
    "\n",
    "plt.figure()\n",
    "plt.plot(ty, s, 'r.')\n",
    "plt.plot(ty, y, 'k--', linewidth=2)\n",
    "plt.grid()\n",
    "plt.legend(['noisy', 'original'])\n",
    "plt.title('Input Signal')"
   ]
  },
  {
   "cell_type": "markdown",
   "metadata": {
    "id": "xUcmKlwKHFWx"
   },
   "source": [
    "Define the matrix T containing the polynomials sampled over the window"
   ]
  },
  {
   "cell_type": "code",
   "execution_count": null,
   "metadata": {
    "id": "jGMh2ixjHG29"
   },
   "outputs": [],
   "source": [
    "# t = \n",
    "# T =\n"
   ]
  },
  {
   "cell_type": "markdown",
   "metadata": {
    "id": "EnS5Vza6HSH1"
   },
   "source": [
    "Construct the LPA kernel"
   ]
  },
  {
   "cell_type": "code",
   "execution_count": null,
   "metadata": {
    "id": "hPYY0do-HUgQ"
   },
   "outputs": [],
   "source": [
    "# comput the qr decomposition of WT\n",
    "# since T has more rows than columns, then qr computes only the first N + 1 columns of Q and the first N + 1 rows of R.\n",
    "# Q, R = \n",
    "\n",
    "#  define Qtilde\n",
    "# Qtilde = \n",
    "\n",
    "# adjust Qtilde with the  weights matrix squared.\n",
    "# W2Qtilde =\n",
    "\n",
    "# select the central row of W2Qtilde\n",
    "# row = \n",
    "\n",
    "# compute the kernel\n",
    "# g = \n",
    "\n",
    "# flipping, since it is used in convolution\n",
    "# g = \n"
   ]
  },
  {
   "cell_type": "code",
   "execution_count": null,
   "metadata": {
    "id": "X6IrK2vSHW04"
   },
   "outputs": [],
   "source": [
    "plt.figure()\n",
    "plt.plot(g, 'rs', linewidth=3)\n",
    "plt.title(f'filter M = {M:d}, N = {N:d}')\n"
   ]
  },
  {
   "cell_type": "markdown",
   "metadata": {
    "id": "nOgP0OfrHasC"
   },
   "source": [
    "Filtering\n"
   ]
  },
  {
   "cell_type": "code",
   "execution_count": null,
   "metadata": {
    "id": "5xPK3rfvHdN7"
   },
   "outputs": [],
   "source": [
    "# shat = \n"
   ]
  },
  {
   "cell_type": "code",
   "execution_count": null,
   "metadata": {
    "id": "L-h2jXwvHfVL"
   },
   "outputs": [],
   "source": [
    "plt.figure()\n",
    "plt.plot(ty, s, 'r.')\n",
    "plt.plot(ty, y, 'k--', linewidth=3)\n",
    "plt.plot(ty, shat, 'm-', linewidth=3)\n",
    "plt.grid()\n",
    "plt.legend(['noisy', 'original', 'LPA estimate'])\n",
    "plt.title(f'M = {M:d}, N = {N:d}')\n",
    "\n"
   ]
  },
  {
   "cell_type": "markdown",
   "metadata": {
    "id": "NkPyfc2_Hhe8"
   },
   "source": [
    "Modify the code to use the central, left and right kernels"
   ]
  }
 ],
 "metadata": {
  "colab": {
   "authorship_tag": "ABX9TyNJWA6TlbHbjdZeHDE5X1+C",
   "provenance": []
  },
  "kernelspec": {
   "display_name": "Python 3",
   "name": "python3"
  },
  "language_info": {
   "name": "python"
  }
 },
 "nbformat": 4,
 "nbformat_minor": 0
}
