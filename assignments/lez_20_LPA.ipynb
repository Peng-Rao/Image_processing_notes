{
 "cells": [
  {
   "cell_type": "code",
   "execution_count": null,
   "metadata": {
    "id": "pLAA3Lj3GLtp"
   },
   "outputs": [],
   "source": [
    "import numpy as np\n",
    "from matplotlib import pyplot as plt\n",
    "from scipy.signal import convolve\n",
    "\n",
    "%matplotlib inline\n",
    "%config InlineBackend.figure_format='retina'"
   ]
  },
  {
   "cell_type": "markdown",
   "metadata": {
    "id": "Be43ir2EHcSE"
   },
   "source": [
    "## Local Polynomial Approximation\n",
    "\n",
    "Set the parameters\n"
   ]
  },
  {
   "cell_type": "code",
   "execution_count": null,
   "metadata": {
    "id": "8Sh4rbXeHh_E"
   },
   "outputs": [],
   "source": [
    "# maximum degree of polynomial used for fitting\n",
    "N = 2\n",
    "\n",
    "# filter size\n",
    "M = 51\n",
    "\n",
    "# large M, small N -> a lot of bias when frequency increases\n",
    "# N = 2\n",
    "# M = 51\n",
    "\n",
    "# large M, large N -> smaller bias than before, but a lot of variance in smooth regions\n",
    "# N = 7\n",
    "# M = 51\n",
    "\n",
    "# small M, small N -> smaller bias everywhere, higher variance\n",
    "# N = 2\n",
    "# M = 5\n",
    "\n",
    "# M small, M = N,  -> smaller bias than before, higher variance than before\n",
    "# N = 5\n",
    "# N = M"
   ]
  },
  {
   "cell_type": "markdown",
   "metadata": {
    "id": "qjOQIg-ZHpTc"
   },
   "source": [
    "Generate synthetic signal signal\n"
   ]
  },
  {
   "cell_type": "code",
   "execution_count": null,
   "metadata": {
    "id": "-IZ3t2qiHoOY"
   },
   "outputs": [],
   "source": [
    "LENGHT = 1000\n",
    "\n",
    "ty = np.linspace(0, 1, LENGHT)\n",
    "y = np.sin(2 / (ty + 0.05))\n",
    "\n",
    "#  noise standard deviation\n",
    "sigma = 0.1\n",
    "\n",
    "# noisy signal\n",
    "s = y + sigma * np.random.normal(size=LENGHT)\n"
   ]
  },
  {
   "cell_type": "code",
   "execution_count": null,
   "metadata": {
    "id": "NXdKkXicH8-8"
   },
   "outputs": [],
   "source": [
    "plt.figure()\n",
    "plt.plot(ty, s, \"r.\")\n",
    "plt.plot(ty, y, \"k--\", linewidth=2)\n",
    "plt.grid()\n",
    "plt.legend([\"noisy\", \"original\"])\n",
    "plt.title(\"Input Signal\")"
   ]
  },
  {
   "cell_type": "markdown",
   "metadata": {
    "id": "UIuAti80FmuZ"
   },
   "source": [
    "Define the matrix T containing the polynomials sampled over the window\n"
   ]
  },
  {
   "cell_type": "code",
   "execution_count": null,
   "metadata": {
    "id": "Dc9sfew3FpYd"
   },
   "outputs": [],
   "source": [
    "t = np.arange(M) / (M - 1)  # normalized time over the window [0, 1]\n",
    "T = np.zeros((M, N + 1))\n",
    "for i in range(N + 1):\n",
    "    T[:, i] = t**i"
   ]
  },
  {
   "cell_type": "markdown",
   "metadata": {
    "id": "obYqSolRFswW"
   },
   "source": [
    "Look at the matrix T, the columns correspond to polynomials sampled over the interval [0,1]\n"
   ]
  },
  {
   "cell_type": "code",
   "execution_count": null,
   "metadata": {
    "id": "JF4VvuuIFsMl"
   },
   "outputs": [],
   "source": [
    "plt.figure()\n",
    "leg = []\n",
    "for l in range(N + 1):\n",
    "    plt.plot(t, T[:, l])\n",
    "    leg.append(f\"t^{l:d}\")\n",
    "plt.legend(leg)"
   ]
  },
  {
   "cell_type": "markdown",
   "metadata": {
    "id": "kGjvIyk7F2O8"
   },
   "source": [
    "Construct the LPA kernel\n"
   ]
  },
  {
   "cell_type": "code",
   "execution_count": null,
   "metadata": {
    "id": "qmcJp0hHF45C"
   },
   "outputs": [],
   "source": [
    "# comput the qr decomposition of WT\n",
    "# since T has more rows than columns, then qr computes only the first N + 1 columns of Q and the first N + 1 rows of R.\n",
    "Q, R = np.linalg.qr(T)\n",
    "\n",
    "# select the central row of Q\n",
    "row = int((M - 1) / 2)\n",
    "\n",
    "# compute the kernel (first row of Q corresponds to the constant term)\n",
    "g = Q[row, 0] * Q[:, 0]\n",
    "\n",
    "# flipping, since it is used in convolution\n",
    "g = np.flip(g)"
   ]
  },
  {
   "cell_type": "code",
   "execution_count": null,
   "metadata": {
    "id": "a0ARJwssF7-a"
   },
   "outputs": [],
   "source": [
    "plt.figure()\n",
    "plt.plot(g, \"rs\", linewidth=3)\n",
    "plt.title(f\"M = {M:d}, N = {N:d}\")"
   ]
  },
  {
   "cell_type": "markdown",
   "metadata": {
    "id": "zvqRD4lAF_C9"
   },
   "source": [
    "Filtering\n"
   ]
  },
  {
   "cell_type": "code",
   "execution_count": null,
   "metadata": {
    "id": "vcIj4kRMGEK3"
   },
   "outputs": [],
   "source": [
    "shat = convolve(s, g, mode=\"same\")"
   ]
  },
  {
   "cell_type": "code",
   "execution_count": null,
   "metadata": {
    "id": "_n60LNsTGGzo"
   },
   "outputs": [],
   "source": [
    "plt.figure(figsize=(10, 10))\n",
    "plt.plot(ty, s, \"r.\")\n",
    "plt.plot(ty, y, \"k--\", linewidth=3)\n",
    "plt.plot(ty, shat, \"m-\", linewidth=3)\n",
    "plt.grid()\n",
    "plt.legend([\"noisy\", \"original\", \"LPA estimate\"])\n",
    "plt.title(f\"M = {M:d}, N = {N:d}\")\n"
   ]
  },
  {
   "cell_type": "markdown",
   "metadata": {},
   "source": [
    "### Perform different M and N\n",
    "\n",
    "- Large M, Large N (M=51, N=7)\n",
    "- Small M, Small N (M=5, N=2)\n",
    "- Small M, comparable N (M=7, N=5)\n"
   ]
  },
  {
   "cell_type": "code",
   "execution_count": null,
   "metadata": {},
   "outputs": [],
   "source": [
    "# Parameter combinations to test\n",
    "param_sets = [\n",
    "    {\"M\": 51, \"N\": 7, \"title\": \"Large M, Large N\"},\n",
    "    {\"M\": 5, \"N\": 2, \"title\": \"Small M, Small N\"},\n",
    "    {\"M\": 7, \"N\": 5, \"title\": \"Small M, comparable N\"},\n",
    "]\n",
    "\n",
    "# Generate test signal (same as original)\n",
    "LENGHT = 1000\n",
    "ty = np.linspace(0, 1, LENGHT)\n",
    "y = np.sin(2 / (ty + 0.05))\n",
    "sigma = 0.1\n",
    "s = y + sigma * np.random.normal(size=LENGHT)\n",
    "\n",
    "# Test each parameter combination\n",
    "for params in param_sets:\n",
    "    M, N = params[\"M\"], params[\"N\"]\n",
    "\n",
    "    # Define polynomial matrix T\n",
    "    t = np.arange(M) / (M - 1)\n",
    "    T = np.zeros((M, N + 1))\n",
    "    for i in range(N + 1):\n",
    "        T[:, i] = t**i\n",
    "\n",
    "    # QR decomposition\n",
    "    Q, R = np.linalg.qr(T)\n",
    "\n",
    "    # Compute kernel\n",
    "    row = int((M - 1) / 2)\n",
    "    g = Q[row, 0] * Q[:, 0]\n",
    "    g = np.flip(g)\n",
    "\n",
    "    # Filter signal\n",
    "    shat = convolve(s, g, mode=\"same\")\n",
    "\n",
    "    # Plot using your specified format\n",
    "    plt.figure(figsize=(10, 10))\n",
    "    plt.plot(ty, s, \"r.\")\n",
    "    plt.plot(ty, y, \"k--\", linewidth=3)\n",
    "    plt.plot(ty, shat, \"m-\", linewidth=3)\n",
    "    plt.grid()\n",
    "    plt.legend([\"noisy\", \"original\", \"LPA estimate\"])\n",
    "    plt.title(f\"M = {M:d}, N = {N:d} - {params['title']}\")\n",
    "\n",
    "    # Calculate and display MSE\n",
    "    mse = np.mean((shat - y) ** 2)\n",
    "    print(f\"{params['title']} (M={M}, N={N}): MSE = {mse:.6f}\")\n",
    "\n",
    "plt.show()"
   ]
  },
  {
   "cell_type": "markdown",
   "metadata": {
    "id": "kMS-uet-GPXj"
   },
   "source": [
    "## Weighted LPA\n",
    "\n",
    "Set the parameters\n"
   ]
  },
  {
   "cell_type": "code",
   "execution_count": null,
   "metadata": {
    "id": "bSncDgUQGWbJ"
   },
   "outputs": [],
   "source": [
    "# maximum degree of polynomial used for fitting\n",
    "N = 1\n",
    "\n",
    "# filter size\n",
    "M = 53\n",
    "\n",
    "# half filter size\n",
    "HFS = int((M - 1) / 2)\n",
    "\n",
    "# set the weights. Here weights simply define the window size\n",
    "w = np.zeros(M)\n",
    "\n",
    "# centered kernel\n",
    "wc = w.copy()\n",
    "wc[int(HFS / 2) : -int(HFS / 2)] = 1\n",
    "\n",
    "# left kernel\n",
    "wl = w.copy()\n",
    "wl[: HFS + 1] = 1\n",
    "\n",
    "# right kernel\n",
    "wr = w.copy()\n",
    "wr[-HFS - 1 :] = 1"
   ]
  },
  {
   "cell_type": "code",
   "execution_count": null,
   "metadata": {
    "id": "8mBILPP5GbDg"
   },
   "outputs": [],
   "source": [
    "fig, ax = plt.subplots(3, 1, figsize=(10, 10))\n",
    "ax[0].plot(wc, \"rs\", linewidth=3)\n",
    "ax[0].set_title(\"centered weights\")\n",
    "ax[0].grid()\n",
    "ax[1].plot(wl, \"bs\", linewidth=3)\n",
    "ax[1].set_title(\"left weights\")\n",
    "ax[1].grid()\n",
    "ax[2].plot(wr, \"ms\", linewidth=3)\n",
    "ax[2].set_title(\"right weights\")\n",
    "ax[2].grid()\n"
   ]
  },
  {
   "cell_type": "markdown",
   "metadata": {
    "id": "5sNIpgrVGnhA"
   },
   "source": [
    "Build the weight matrix\n"
   ]
  },
  {
   "cell_type": "code",
   "execution_count": null,
   "metadata": {
    "id": "tumd6cwcGplT"
   },
   "outputs": [],
   "source": [
    "# select a single weight to be used in what follows\n",
    "w = wc\n",
    "\n",
    "# generate the inverse of weights\n",
    "winv = np.zeros_like(w)\n",
    "winv[w != 0] = 1 / w[w != 0]\n",
    "\n",
    "# set to zero weights that are inf\n",
    "winv[np.isinf(winv)] = 0\n",
    "\n",
    "# define the weight matrix\n",
    "W = np.diag(w)\n",
    "Winv = np.diag(winv)"
   ]
  },
  {
   "cell_type": "markdown",
   "metadata": {
    "id": "IitnP4AZGu8Y"
   },
   "source": [
    "Generate synthetic signal signal\n"
   ]
  },
  {
   "cell_type": "code",
   "execution_count": null,
   "metadata": {
    "id": "o8Va5KaMG3VN"
   },
   "outputs": [],
   "source": [
    "LENGHT = 1000\n",
    "\n",
    "# clean signal\n",
    "ty = np.linspace(0, 1, LENGHT)\n",
    "y = 8 * ty**2 - 2 * ty + 2\n",
    "y[LENGHT // 2 : LENGHT] = y[LENGHT // 2 : LENGHT] + 7\n",
    "\n",
    "#  noise standard deviation\n",
    "sigma = 0.2\n",
    "\n",
    "# noisy signal\n",
    "s = y + sigma * np.random.normal(size=LENGHT)"
   ]
  },
  {
   "cell_type": "code",
   "execution_count": null,
   "metadata": {
    "id": "xBzoHZbrG8g3"
   },
   "outputs": [],
   "source": [
    "plt.figure()\n",
    "plt.plot(ty, s, \"r.\")\n",
    "plt.plot(ty, y, \"k--\", linewidth=2)\n",
    "plt.grid()\n",
    "plt.legend([\"noisy\", \"original\"])\n",
    "plt.title(\"Input Signal\")"
   ]
  },
  {
   "cell_type": "markdown",
   "metadata": {
    "id": "xUcmKlwKHFWx"
   },
   "source": [
    "Define the matrix T containing the polynomials sampled over the window\n"
   ]
  },
  {
   "cell_type": "code",
   "execution_count": null,
   "metadata": {
    "id": "jGMh2ixjHG29"
   },
   "outputs": [],
   "source": [
    "t = np.arange(M) / (M - 1)  # normalized time over the window [0, 1]\n",
    "T = np.zeros((M, N + 1))\n",
    "for i in range(N + 1):\n",
    "    T[:, i] = t**i"
   ]
  },
  {
   "cell_type": "markdown",
   "metadata": {
    "id": "EnS5Vza6HSH1"
   },
   "source": [
    "Construct the LPA kernel\n"
   ]
  },
  {
   "cell_type": "code",
   "execution_count": null,
   "metadata": {
    "id": "hPYY0do-HUgQ"
   },
   "outputs": [],
   "source": [
    "# comput the qr decomposition of WT\n",
    "# since T has more rows than columns, then qr computes only the first N + 1 columns of Q and the first N + 1 rows of R.\n",
    "Q, R = np.linalg.qr(W @ T)\n",
    "\n",
    "#  define Qtilde\n",
    "Qtilde = Winv @ Q\n",
    "\n",
    "# adjust Qtilde with the  weights matrix squared.\n",
    "W2Qtilde = W @ W @ Qtilde\n",
    "\n",
    "# select the central row of W2Qtilde\n",
    "row = int((M - 1) / 2)\n",
    "\n",
    "# compute the kernel\n",
    "g = W2Qtilde[row, 0] * Qtilde[:, 0]\n",
    "\n",
    "# flipping, since it is used in convolution\n",
    "g = np.flip(g)"
   ]
  },
  {
   "cell_type": "code",
   "execution_count": null,
   "metadata": {
    "id": "X6IrK2vSHW04"
   },
   "outputs": [],
   "source": [
    "plt.figure()\n",
    "plt.plot(g, \"rs\", linewidth=3)\n",
    "plt.title(f\"filter M = {M:d}, N = {N:d}\")\n"
   ]
  },
  {
   "cell_type": "markdown",
   "metadata": {
    "id": "nOgP0OfrHasC"
   },
   "source": [
    "Filtering\n"
   ]
  },
  {
   "cell_type": "code",
   "execution_count": null,
   "metadata": {
    "id": "5xPK3rfvHdN7"
   },
   "outputs": [],
   "source": [
    "shat = convolve(s, g, mode=\"same\")"
   ]
  },
  {
   "cell_type": "code",
   "execution_count": null,
   "metadata": {
    "id": "L-h2jXwvHfVL"
   },
   "outputs": [],
   "source": [
    "plt.figure()\n",
    "plt.plot(ty, s, \"r.\")\n",
    "plt.plot(ty, y, \"k--\", linewidth=3)\n",
    "plt.plot(ty, shat, \"m-\", linewidth=3)\n",
    "plt.grid()\n",
    "plt.legend([\"noisy\", \"original\", \"LPA estimate\"])\n",
    "plt.title(f\"M = {M:d}, N = {N:d}\")\n"
   ]
  },
  {
   "cell_type": "markdown",
   "metadata": {
    "id": "NkPyfc2_Hhe8"
   },
   "source": [
    "Modify the code to use the central, left and right kernels\n"
   ]
  },
  {
   "cell_type": "code",
   "execution_count": null,
   "metadata": {},
   "outputs": [],
   "source": [
    "def adaptive_lpa_filter(signal, M, N, weights_list):\n",
    "    filtered_signals = []\n",
    "\n",
    "    for w in weights_list:\n",
    "        # generate the inverse of weights\n",
    "        winv = np.zeros_like(w)\n",
    "        winv[w != 0] = 1 / w[w != 0]\n",
    "        winv[np.isinf(winv)] = 0\n",
    "\n",
    "        # define the weight matrices\n",
    "        W = np.diag(w)\n",
    "        Winv = np.diag(winv)\n",
    "\n",
    "        # Define the matrix T\n",
    "        t = np.arange(M) / (M - 1)\n",
    "        T = np.zeros((M, N + 1))\n",
    "        for i in range(N + 1):\n",
    "            T[:, i] = t**i\n",
    "\n",
    "        # QR decomposition\n",
    "        Q, R = np.linalg.qr(W @ T)\n",
    "\n",
    "        # Compute kernel\n",
    "        Qtilde = Winv @ Q\n",
    "        W2Qtilde = W @ W @ Qtilde\n",
    "        row = int((M - 1) / 2)\n",
    "        g = W2Qtilde[row, 0] * Qtilde[:, 0]\n",
    "        g = np.flip(g)\n",
    "\n",
    "        # Filter the signal\n",
    "        filtered = convolve(signal, g, mode=\"same\")\n",
    "        filtered_signals.append(filtered)\n",
    "\n",
    "    return filtered_signals\n",
    "\n",
    "\n",
    "# Apply adaptive filtering with all three kernels\n",
    "filtered_results = adaptive_lpa_filter(s, M, N, [wl, wc, wr])\n",
    "\n",
    "# Plot results with different kernels\n",
    "plt.figure(figsize=(12, 8))\n",
    "plt.plot(ty, s, \"r.\", alpha=0.5, markersize=2)\n",
    "plt.plot(ty, y, \"k--\", linewidth=3)\n",
    "plt.plot(ty, filtered_results[0], \"b-\", linewidth=2, alpha=0.7)\n",
    "plt.plot(ty, filtered_results[1], \"m-\", linewidth=2, alpha=0.7)\n",
    "plt.plot(ty, filtered_results[2], \"g-\", linewidth=2, alpha=0.7)\n",
    "plt.grid()\n",
    "plt.legend([\"noisy\", \"original\", \"left kernel\", \"centered kernel\", \"right kernel\"])\n",
    "plt.title(f\"Adaptive LPA with different kernels (M = {M:d}, N = {N:d})\")\n",
    "plt.xlabel(\"Time\")\n",
    "plt.ylabel(\"Signal\")\n",
    "\n",
    "plt.show()"
   ]
  }
 ],
 "metadata": {
  "colab": {
   "authorship_tag": "ABX9TyNJWA6TlbHbjdZeHDE5X1+C",
   "provenance": []
  },
  "kernelspec": {
   "display_name": "Image_processing_notes",
   "language": "python",
   "name": "python3"
  },
  "language_info": {
   "codemirror_mode": {
    "name": "ipython",
    "version": 3
   },
   "file_extension": ".py",
   "mimetype": "text/x-python",
   "name": "python",
   "nbconvert_exporter": "python",
   "pygments_lexer": "ipython3",
   "version": "3.13.4"
  }
 },
 "nbformat": 4,
 "nbformat_minor": 0
}
