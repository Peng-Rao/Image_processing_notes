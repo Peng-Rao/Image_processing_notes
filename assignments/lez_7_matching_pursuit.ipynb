{
 "cells": [
  {
   "cell_type": "code",
   "execution_count": null,
   "metadata": {
    "id": "opwp5eU9E-8f"
   },
   "outputs": [],
   "source": [
    "import numpy as np\n",
    "from matplotlib import pyplot as plt\n",
    "import scipy as sp\n",
    "from scipy import fft"
   ]
  },
  {
   "cell_type": "markdown",
   "metadata": {
    "id": "7j9pcXTvFl_h"
   },
   "source": [
    "Variable initialization\n"
   ]
  },
  {
   "cell_type": "code",
   "execution_count": null,
   "metadata": {
    "id": "u7PgrQa4Fkln"
   },
   "outputs": [],
   "source": [
    "M = 32  # signal dimension\n",
    "N = 2 * M  # number of atoms in the expansion\n",
    "\n",
    "\n",
    "C = np.zeros(\n",
    "    (M, M)\n",
    ")  # matrix containing the standard basis (a kronecker delta in each column)\n",
    "DCT = np.zeros(\n",
    "    (M, M)\n",
    ")  # matrix containing the DCT basis (a DCT function in each column)"
   ]
  },
  {
   "cell_type": "markdown",
   "metadata": {
    "id": "-NB1-MvmFsot"
   },
   "source": [
    "Generate the 1D-DCT basis\n"
   ]
  },
  {
   "cell_type": "code",
   "execution_count": null,
   "metadata": {
    "id": "Rey7kIlUF22r"
   },
   "outputs": [],
   "source": [
    "for i in range(M):\n",
    "    # DCT[:, i] =\n"
   ]
  },
  {
   "cell_type": "markdown",
   "metadata": {
    "id": "xJV-_dFw1XCf"
   },
   "source": [
    "Generating the 1-D standard basis\n"
   ]
  },
  {
   "cell_type": "code",
   "execution_count": null,
   "metadata": {
    "id": "NzxgsbAn1TYl"
   },
   "outputs": [],
   "source": [
    "for i in range(M):\n",
    "    # C[:, i] =\n"
   ]
  },
  {
   "cell_type": "markdown",
   "metadata": {
    "id": "ps3YDsYVBlG9"
   },
   "source": [
    "Define the dictionary $D = [DCT, C]$\n"
   ]
  },
  {
   "cell_type": "code",
   "execution_count": null,
   "metadata": {
    "id": "dj_bmbLx1Y6J"
   },
   "outputs": [],
   "source": [
    "D = np.hstack((DCT, C))\n",
    "\n",
    "plt.figure(figsize=(10, 10))\n",
    "plt.imshow(D)\n",
    "plt.title(f\"Our dictionary M = {M}, N = {N}\")"
   ]
  },
  {
   "cell_type": "markdown",
   "metadata": {
    "id": "Cq78PWSDFw7G"
   },
   "source": [
    "## Generate a signal that is sparse w.r.t. $[DCT, C]$\n",
    "\n",
    "To this purpose add a spike to the sum of few DCT atoms, i.e., add a spike to $\\mathbf{s}$ that is sparse w.r.t. C. Bear in mind that the spike is to be considered a signal to be reconstructed, rather than noise\n"
   ]
  },
  {
   "cell_type": "code",
   "execution_count": null,
   "metadata": {
    "id": "RWfXEyuaxAlj"
   },
   "outputs": [],
   "source": [
    "L = 5\n",
    "sigma_noise = 0.2"
   ]
  },
  {
   "cell_type": "markdown",
   "metadata": {
    "id": "kui72O2dw3xc"
   },
   "source": [
    "Randomly define the coefficients of a sparse representation w.r.t. $DCT$ (make sure the nonzero coefficients are sufficiently large)\n"
   ]
  },
  {
   "cell_type": "code",
   "execution_count": null,
   "metadata": {
    "id": "PHuWhKkwFdIR"
   },
   "outputs": [],
   "source": [
    "# x0 ="
   ]
  },
  {
   "cell_type": "markdown",
   "metadata": {
    "id": "-fDtRB_B2FsY"
   },
   "source": [
    "Choose spike location and update $x_0$\n"
   ]
  },
  {
   "cell_type": "code",
   "execution_count": null,
   "metadata": {
    "id": "5fej2dZ72HT6"
   },
   "outputs": [],
   "source": [
    "# spikeLocation =\n",
    "# x0 ="
   ]
  },
  {
   "cell_type": "markdown",
   "metadata": {
    "id": "yj3t4oWxwpOH"
   },
   "source": [
    "Synthetize the corresponding signal in the signal domain and add noise\n"
   ]
  },
  {
   "cell_type": "code",
   "execution_count": null,
   "metadata": {
    "id": "yOPV-2k9wv7O"
   },
   "outputs": [],
   "source": [
    "# s0 =\n",
    "# s ="
   ]
  },
  {
   "cell_type": "markdown",
   "metadata": {
    "id": "KRBSmSG5GIPe"
   },
   "source": [
    "Plot the sparse signal\n"
   ]
  },
  {
   "cell_type": "code",
   "execution_count": null,
   "metadata": {
    "id": "m1NfJRxKGKFu"
   },
   "outputs": [],
   "source": [
    "LN_WDT = 2\n",
    "MRK_SZ = 10\n",
    "\n",
    "plt.figure(figsize=(6, 6))\n",
    "plt.plot(s0, \"b--\", linewidth=LN_WDT + 1)\n",
    "plt.plot(s, \"r--x\", linewidth=LN_WDT - 1)\n",
    "plt.title(f\"Sparse signal in DCT domain (L = {L:.0f})\")\n",
    "plt.legend([\"original\", \"noisy\"])\n"
   ]
  },
  {
   "cell_type": "markdown",
   "metadata": {
    "id": "Y4O1zq_JGPeL"
   },
   "source": [
    "## Matching Pursuit\n",
    "\n",
    "Initialize all the variables, including the residual, namely the components of the signals that can not be represented (here the signal at the very beginning)\n"
   ]
  },
  {
   "cell_type": "code",
   "execution_count": null,
   "metadata": {
    "id": "9OtzbfA_GRIA"
   },
   "outputs": [],
   "source": [
    "x_MP = np.zeros(N)\n",
    "\n",
    "# r =\n",
    "\n",
    "l = 1\n",
    "\n",
    "# initialize the norm of the resiudal (components not represented by the coefficients)\n",
    "\n",
    "# resNorm =\n",
    "\n",
    "MINIMUM_RES_NORM = 0.1\n"
   ]
  },
  {
   "cell_type": "markdown",
   "metadata": {
    "id": "UDzCdJkvxazx"
   },
   "source": [
    "MP loop starts.\n",
    "\n",
    "Stoppint criteria: continue until the sparsity of the representation reaches L or as long as resNorm(l) is above a minimum value or as long as a maxium number of iterations have been reached\n"
   ]
  },
  {
   "cell_type": "code",
   "execution_count": null,
   "metadata": {
    "id": "_smviSBHxeMY"
   },
   "outputs": [],
   "source": [
    "while np.count_nonzero(x_MP) < L and resNorm > MINIMUM_RES_NORM and l < 2*L:\n",
    "\n",
    "    # SWEEP STEP: look for the column of D that matches at best noisySignal\n",
    "    # compute the residual w.r.t. each column of D\n",
    "    e = np.zeros(N)\n",
    "    for j in range(N):\n",
    "        # e[j] =\n",
    "        # this corresponds to solving e(j) = min( || dj zj - s ||),\n",
    "        # which is obtained by setting zj = dj' r / || dj ||^2 (analytically defined)\n",
    "        # there is no need to divide by || dj ||^2 since columns are nomalized\n",
    "\n",
    "    # find the column of D that matches at best r, i.e. jStar = argmin(e(j))\n",
    "    # jStar =\n",
    "\n",
    "    # UPDATE the jStar coefficient by *summing* the new component dj' r^(i) / || dj ||^2\n",
    "    # x_MP[jStar] =\n",
    "\n",
    "    # remove the signal we have so far represented in coeff_MP (update the residual)\n",
    "    # r =  # component that cannot be captured by the signal (the signal at the very beginning)\n",
    "\n",
    "    l = l + 1\n",
    "\n",
    "    # update the residual norm\n",
    "    # resNorm ="
   ]
  },
  {
   "cell_type": "markdown",
   "metadata": {
    "id": "o_0Wg_caxo6Y"
   },
   "source": [
    "SYNTHESIS: reconstruct the signal, by inverting the transformation to reconstruct the signal\n"
   ]
  },
  {
   "cell_type": "code",
   "execution_count": null,
   "metadata": {
    "id": "lTZ2OY_Pxrix"
   },
   "outputs": [],
   "source": [
    "# s_hat_MP ="
   ]
  },
  {
   "cell_type": "markdown",
   "metadata": {
    "id": "X1c_yWofxvoV"
   },
   "source": [
    "Those part of the signal that have not been modeled by s_hat (i.e. the projection on the subspace of the L most involved coefficients) corresponds to the norm of the residual\n"
   ]
  },
  {
   "cell_type": "code",
   "execution_count": null,
   "metadata": {
    "id": "KDtpZrGFCdGB"
   },
   "outputs": [],
   "source": [
    "# resNorm_MP =\n"
   ]
  },
  {
   "cell_type": "markdown",
   "metadata": {
    "id": "QtauqPDBChHm"
   },
   "source": [
    "Show the result\n"
   ]
  },
  {
   "cell_type": "code",
   "execution_count": null,
   "metadata": {
    "id": "WpUm6mJ2xxxo"
   },
   "outputs": [],
   "source": [
    "LN_WDT = 2\n",
    "MRK_SZ = 10\n",
    "\n",
    "fix, ax = plt.subplots(1, 2, figsize=(12, 6))\n",
    "ax[0].plot(s0, \"b-o\", linewidth=LN_WDT + 1)\n",
    "ax[0].plot(s, \"r-x\", linewidth=LN_WDT - 1)\n",
    "ax[0].plot(s_hat_MP, \"m-\", linewidth=LN_WDT)\n",
    "ax[0].set_title(f\"Sparse signal in DCT domain (L = {L:.0f})\")\n",
    "ax[0].legend([\"original (s0)\", \"noisy (s)\", \"MP estimate\"])\n",
    "\n",
    "ax[1].stem(x0, linefmt=\"b-\", markerfmt=\"C0o\")\n",
    "ax[1].stem(x_MP, linefmt=\"m-.\", markerfmt=\"C1o\")\n",
    "ax[1].set_title(\"DCT Coefficients\")\n",
    "ax[1].legend([\"coefficients of s0 (x0)\", \"coefficients of s_hat (x_hat)\"])\n"
   ]
  }
 ],
 "metadata": {
  "colab": {
   "provenance": []
  },
  "kernelspec": {
   "display_name": "Image_processing_notes",
   "language": "python",
   "name": "python3"
  },
  "language_info": {
   "name": "python",
   "version": "3.13.4"
  }
 },
 "nbformat": 4,
 "nbformat_minor": 0
}
