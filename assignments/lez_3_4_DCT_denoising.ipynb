{
 "cells": [
  {
   "cell_type": "code",
   "execution_count": null,
   "metadata": {
    "id": "opwp5eU9E-8f"
   },
   "outputs": [],
   "source": [
    "from skimage.io import imread\n",
    "import numpy as np\n",
    "from scipy.fft import dct, idct\n",
    "from scipy.signal import convolve2d\n",
    "from matplotlib import pyplot as plt\n",
    "import time\n"
   ]
  },
  {
   "cell_type": "code",
   "execution_count": null,
   "metadata": {
    "id": "N0H_uNYDFo9a"
   },
   "outputs": [],
   "source": [
    "rootfolder = '.'"
   ]
  },
  {
   "cell_type": "markdown",
   "metadata": {
    "id": "4kVu6DxV_UzG"
   },
   "source": [
    "# Denoising\n",
    "\n",
    "The goal of this section is to implement a simple denoising algorithm based on the 2D DCT. Given a noise free image $Y$, we observe a noisy version $S$:\n",
    "$$\n",
    "S = Y + \\eta\n",
    "$$\n",
    "where $\\eta\\sim N(0, \\sigma^2)$ denotes white Gaussian noise.\n",
    "\n",
    "Our goal is to compute an estimate $\\widehat Y$ of the original image $Y$. To evaluate the performance of the denoising algorithm we use again the PSNR:\n",
    "$$\n",
    "\\text{PSNR} = 10\\log_{10}\\frac{1}{\\text{MSE}(Y, \\widehat Y)}\n",
    "$$"
   ]
  },
  {
   "cell_type": "markdown",
   "metadata": {
    "id": "k6LEMyoWIO4u"
   },
   "source": [
    "## Synthetically corrupt an noisy image"
   ]
  },
  {
   "cell_type": "markdown",
   "metadata": {
    "id": "Cq78PWSDFw7G"
   },
   "source": [
    "Load the image and rescale it in $[0,1]$"
   ]
  },
  {
   "cell_type": "code",
   "execution_count": null,
   "metadata": {
    "id": "PHuWhKkwFdIR"
   },
   "outputs": [],
   "source": [
    "img = imread(f'{rootfolder}/data/cameraman.png') / 255  #/data/checkerboard.png\n",
    "imsz = img.shape"
   ]
  },
  {
   "cell_type": "markdown",
   "metadata": {
    "id": "KRBSmSG5GIPe"
   },
   "source": [
    "Corrupt the image with white gaussian noise"
   ]
  },
  {
   "cell_type": "code",
   "execution_count": null,
   "metadata": {
    "id": "m1NfJRxKGKFu"
   },
   "outputs": [],
   "source": [
    "sigma_noise = 20/255\n",
    "noisy_img = img + np.random.normal(size=imsz) * sigma_noise"
   ]
  },
  {
   "cell_type": "markdown",
   "metadata": {
    "id": "Y4O1zq_JGPeL"
   },
   "source": [
    "Compute the psnr of the noisy input"
   ]
  },
  {
   "cell_type": "code",
   "execution_count": null,
   "metadata": {
    "id": "9OtzbfA_GRIA"
   },
   "outputs": [],
   "source": [
    "psnr_noisy =\n"
   ]
  },
  {
   "cell_type": "code",
   "execution_count": null,
   "metadata": {
    "id": "oMQ-c73WGT6f"
   },
   "outputs": [],
   "source": [
    "fig, ax = plt.subplots(1, 2, figsize=(20, 10))\n",
    "ax[0].imshow(img, cmap='gray')\n",
    "ax[0].set_title('Original image')\n",
    "\n",
    "ax[1].imshow(noisy_img, cmap='gray')\n",
    "ax[1].set_title(f'Noisy image, PSNR = {psnr_noisy:.2f}')\n"
   ]
  },
  {
   "cell_type": "markdown",
   "metadata": {
    "id": "iE35SOcaI9_a"
   },
   "source": [
    "Noise estimation\n",
    "----------------\n",
    "Compute the horizontal derivative of the image"
   ]
  },
  {
   "cell_type": "code",
   "execution_count": null,
   "metadata": {
    "id": "Qtr03zyaJGwj"
   },
   "outputs": [],
   "source": [
    "differences =\n"
   ]
  },
  {
   "cell_type": "markdown",
   "metadata": {
    "id": "UFZukTDTJI5R"
   },
   "source": [
    "Compute sigma as the empirical std"
   ]
  },
  {
   "cell_type": "code",
   "execution_count": null,
   "metadata": {
    "id": "m0b_by0zJIkF"
   },
   "outputs": [],
   "source": [
    "sigma_hat_emp =\n"
   ]
  },
  {
   "cell_type": "markdown",
   "metadata": {
    "id": "XR2FCd42JN1I"
   },
   "source": [
    "Use MAD to estimate the noise level sigma"
   ]
  },
  {
   "cell_type": "code",
   "execution_count": null,
   "metadata": {
    "id": "cGzy3oZMJRDZ"
   },
   "outputs": [],
   "source": [
    "sigma_hat =\n"
   ]
  },
  {
   "cell_type": "code",
   "execution_count": null,
   "metadata": {
    "id": "YPV1F7lhJTB7"
   },
   "outputs": [],
   "source": [
    "print(f'sigma: {sigma_noise:.3f}, sigma_hat (empirical std): {sigma_hat_emp:.3f}, sigma_hat (MAD): {sigma_hat:.3f}')\n"
   ]
  },
  {
   "cell_type": "markdown",
   "metadata": {
    "id": "lPeaH5JjIj3k"
   },
   "source": [
    "## Denoising by Smoothing\n",
    "Implement Denoising by Smoothing using convolution against a uniform filter of different size."
   ]
  },
  {
   "cell_type": "code",
   "execution_count": null,
   "metadata": {
    "id": "D9S_vXelHrjS"
   },
   "outputs": [],
   "source": [
    "filter_size = #\n",
    "\n",
    "filter = #\n",
    "\n",
    "# compute the convolution with convolve2d()\n",
    "img_hat_conv = #\n"
   ]
  },
  {
   "cell_type": "code",
   "execution_count": null,
   "metadata": {
    "id": "19PixqmEQDg6"
   },
   "outputs": [],
   "source": [
    "psnr_conv = #"
   ]
  },
  {
   "cell_type": "code",
   "execution_count": null,
   "metadata": {
    "id": "NvkRgSLJQbn9"
   },
   "outputs": [],
   "source": [
    "fig, ax = plt.subplots(1, 3, figsize=(20, 10))\n",
    "ax[0].imshow(img, cmap='gray')\n",
    "ax[0].set_title('Original image')\n",
    "\n",
    "ax[1].imshow(img_hat_conv, cmap='gray')\n",
    "ax[1].set_title(f'Image denoised by convolution (filter size: {filter_size}), PSNR = {psnr_conv:.2f}')\n",
    "\n",
    "ax[2].imshow(noisy_img, cmap='gray')\n",
    "ax[2].set_title(f'Noisy image, PSNR = {psnr_noisy:.2f}')"
   ]
  },
  {
   "cell_type": "markdown",
   "metadata": {
    "id": "7j9pcXTvFl_h"
   },
   "source": [
    "## Denoising by Leveraging Sparsity in the DCT Domain\n",
    "\n",
    "Definition of dct2 and idct2 (they are not builtin functions)"
   ]
  },
  {
   "cell_type": "code",
   "execution_count": null,
   "metadata": {
    "id": "u7PgrQa4Fkln"
   },
   "outputs": [],
   "source": [
    "def dct2(s):\n",
    "    return dct(dct(s.T, norm='ortho').T, norm='ortho')\n",
    "\n",
    "def idct2(x):\n",
    "    return idct(idct(x.T, norm='ortho').T, norm='ortho')"
   ]
  },
  {
   "cell_type": "code",
   "execution_count": null,
   "metadata": {
    "id": "J7xwDMFdJ0r4"
   },
   "outputs": [],
   "source": [
    "# patch size\n",
    "p = 8\n",
    "\n",
    "# number of elements in the patch\n",
    "M = p ** 2"
   ]
  },
  {
   "cell_type": "markdown",
   "metadata": {
    "id": "-NB1-MvmFsot"
   },
   "source": [
    "Useful function for plot the 2D DCT dictionary"
   ]
  },
  {
   "cell_type": "code",
   "execution_count": null,
   "metadata": {
    "id": "Rey7kIlUF22r"
   },
   "outputs": [],
   "source": [
    "def get_dictionary_img(D):\n",
    "    M = D.shape[0]\n",
    "    p = int(round(np.sqrt(M)))\n",
    "    bound = 2\n",
    "    img = np.ones((p*p+bound*(p-1), p*p+bound*(p-1)))\n",
    "    for i in range(M):\n",
    "        m = np.mod(i, p)\n",
    "        n = int((i-m)/p)\n",
    "        m = m * p + bound * m\n",
    "        n = n * p + bound * n\n",
    "        atom = D[:, i].reshape((p, p))\n",
    "        if atom.min() < atom.max():\n",
    "            atom = (atom - atom.min()) / (atom.max() - atom.min())\n",
    "        img[m: m + p, n: n + p] = atom\n",
    "\n",
    "    return img"
   ]
  },
  {
   "cell_type": "markdown",
   "metadata": {
    "id": "BxKnKExsH_Hb"
   },
   "source": [
    "DCT denoising\n",
    "-------------\n",
    "Generate the DCT basis"
   ]
  },
  {
   "cell_type": "code",
   "execution_count": null,
   "metadata": {
    "id": "Bfxv8-RCIHMk"
   },
   "outputs": [],
   "source": [
    "D = np.zeros((M, M))\n",
    "cnt = 0\n",
    "for i in range(p):\n",
    "    for j in range(p):\n",
    "        pass\n"
   ]
  },
  {
   "cell_type": "code",
   "execution_count": null,
   "metadata": {
    "id": "9PB9UCS5II-J"
   },
   "outputs": [],
   "source": [
    "D_img = get_dictionary_img(D)\n",
    "plt.figure(figsize=(8, 8))\n",
    "plt.imshow(D_img, cmap='gray')"
   ]
  },
  {
   "cell_type": "markdown",
   "metadata": {
    "id": "rEEitk8qIUeE"
   },
   "source": [
    "Denoising: set parameters and initialize the variables"
   ]
  },
  {
   "cell_type": "code",
   "execution_count": null,
   "metadata": {
    "id": "Hk2qJgl_ISwt"
   },
   "outputs": [],
   "source": [
    "# initialize the estimated image\n",
    "img_hat = np.zeros_like(img)\n",
    "\n",
    "# initialize the weight matrix\n",
    "weights = np.zeros_like(img)\n",
    "\n",
    "# set the threshold for the Hard Thresholding\n",
    "tau = 3 * sigma_noise # Donoho says: sigma * sqrt(2*log(p^2))\n",
    "\n",
    "# define the step\n",
    "STEP = #"
   ]
  },
  {
   "cell_type": "markdown",
   "metadata": {
    "id": "4c2rIFvSIaUP"
   },
   "source": [
    "Perform the denoising patchwise"
   ]
  },
  {
   "cell_type": "code",
   "execution_count": null,
   "metadata": {
    "id": "kuFjroAWIcSr"
   },
   "outputs": [],
   "source": [
    "for i in range(0, imsz[0] - p + 1, STEP):\n",
    "    for j in range(0, imsz[1] - p + 1, STEP):\n",
    "        # extrach the patch with the top left corner at pixel (ii, jj)\n",
    "        s =\n",
    "\n",
    "        # compute the representation w.r.t. the 2D DCT dictionary\n",
    "        x =\n",
    "\n",
    "        # perform the hard thresholding (do not perform HT on the DC!)\n",
    "        x_HT =\n",
    "\n",
    "        # perform the reconstruction\n",
    "        s_hat =\n",
    "\n",
    "        # compute the weights to be used for aggregating the reconstructed patch\n",
    "        w =\n",
    "\n",
    "        # accumulate by summation the denoised patch into the denoised image using the computed weight\n",
    "        # update img_hat\n",
    "\n",
    "        # accumulate by summation the weights of the current patch in the weight matrix\n",
    "        # update weights"
   ]
  },
  {
   "cell_type": "markdown",
   "metadata": {
    "id": "ocfbYQaPIrHT"
   },
   "source": [
    "Normalize the estimated image with the computed weights, i.e. compute averages"
   ]
  },
  {
   "cell_type": "code",
   "execution_count": null,
   "metadata": {
    "id": "4IyXldZIIohV"
   },
   "outputs": [],
   "source": [
    "img_hat ="
   ]
  },
  {
   "cell_type": "markdown",
   "metadata": {
    "id": "S7ItjKLoIy1M"
   },
   "source": [
    "Compute the psnr of the estimated image"
   ]
  },
  {
   "cell_type": "code",
   "execution_count": null,
   "metadata": {
    "id": "EuwTIEL3I1Ki"
   },
   "outputs": [],
   "source": [
    "psnr_hat =\n",
    "plt.figure(figsize=(10,10))\n",
    "plt.imshow(img_hat, cmap='gray')\n",
    "plt.title(f'Estimated Image (step: {STEP}), PSNR = {psnr_hat:.2f}')\n"
   ]
  },
  {
   "cell_type": "markdown",
   "metadata": {
    "id": "IXCFm_QELxMV"
   },
   "source": [
    "Wiener Filtering\n",
    "----------------\n",
    "Initialize the estimated image via Wiener Filtering"
   ]
  },
  {
   "cell_type": "code",
   "execution_count": null,
   "metadata": {
    "id": "pHDDWn4kLyIM"
   },
   "outputs": [],
   "source": [
    "img_hat_wiener = np.zeros_like(img)\n",
    "weights = np.zeros_like(img)"
   ]
  },
  {
   "cell_type": "markdown",
   "metadata": {
    "id": "TE3_wtU7L2EQ"
   },
   "source": [
    "Perform the denoising patchwise"
   ]
  },
  {
   "cell_type": "code",
   "execution_count": null,
   "metadata": {
    "id": "U8dvgcTgL_jr"
   },
   "outputs": [],
   "source": [
    "for i in range(0, imsz[0] - p + 1, STEP):\n",
    "    for j in range(0, imsz[1] - p + 1, STEP):\n",
    "        # extrach the patch from the noisy image with the top left corner at pixel (ii, jj)\n",
    "        s =\n",
    "\n",
    "        # compute the representation w.r.t. the 2D DCT dictionary\n",
    "        x =\n",
    "\n",
    "        # extrach the patch from the image estimated by HT with the top left corner at pixel (ii, jj)\n",
    "        s_hat_HT =\n",
    "\n",
    "        # perform the Wiener filtering (do not filter the DC!)\n",
    "        x_wie =\n",
    "\n",
    "        # perform the reconstruction\n",
    "        s_hat_wie =\n",
    "\n",
    "        # use uniform weights to aggregate the multiple estimates\n",
    "        w = 1\n",
    "\n",
    "        # put the denoised patch into the denoised image using the computed weight\n",
    "        # update img_hat_wiener\n",
    "\n",
    "        # store the weight of the current patch in the weight matrix\n",
    "        # update weights\n",
    "\n",
    "# Normalize the estimated image with the computed weights\n",
    "img_hat_wiener ="
   ]
  },
  {
   "cell_type": "markdown",
   "metadata": {
    "id": "cmZqMLNMJDU4"
   },
   "source": [
    "Compute the PSNR of the two estimates"
   ]
  },
  {
   "cell_type": "code",
   "execution_count": null,
   "metadata": {
    "id": "P-8t1vvHJDU4"
   },
   "outputs": [],
   "source": [
    "psnr_wiener =\n",
    "\n",
    "fig, ax = plt.subplots(1, 2, figsize=(20, 10))\n",
    "ax[0].imshow(img_hat, cmap='gray')\n",
    "ax[0].set_title(f'HT Estimate, PSNR = {psnr:.2f}')\n",
    "\n",
    "ax[1].imshow(img_hat_wiener, cmap='gray')\n",
    "ax[1].set_title(f'Wiener Estimate, PSNR = {psnr_wiener:.2f}')\n"
   ]
  }
 ],
 "metadata": {
  "accelerator": "GPU",
  "colab": {
   "gpuType": "T4",
   "provenance": []
  },
  "gpuClass": "standard",
  "kernelspec": {
   "display_name": ".venv",
   "language": "python",
   "name": "python3"
  },
  "language_info": {
   "name": "python",
   "version": "3.10.13"
  }
 },
 "nbformat": 4,
 "nbformat_minor": 0
}
