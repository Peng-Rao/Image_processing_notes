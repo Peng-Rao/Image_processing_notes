{
 "cells": [
  {
   "cell_type": "code",
   "execution_count": null,
   "metadata": {
    "id": "pLAA3Lj3GLtp"
   },
   "outputs": [],
   "source": [
    "import numpy as np\n",
    "from matplotlib import pyplot as plt"
   ]
  },
  {
   "cell_type": "markdown",
   "metadata": {
    "id": "Be43ir2EHcSE"
   },
   "source": [
    "Define the problem parameters\n"
   ]
  },
  {
   "cell_type": "code",
   "execution_count": null,
   "metadata": {
    "id": "8Sh4rbXeHh_E"
   },
   "outputs": [],
   "source": [
    "A = np.array([[1, 3], [3, 1]]) # low dimensions to plot it, you can test larger sizes\n",
    "b = np.array([-1, 2])\n",
    "\n",
    "lmbda = 0.5\n"
   ]
  },
  {
   "cell_type": "markdown",
   "metadata": {
    "id": "qjOQIg-ZHpTc"
   },
   "source": [
    "The function to be minimized is $\\frac{1}{2}\\|Ax-b\\|_2^2 + \\lambda \\|x\\|_1$"
   ]
  },
  {
   "cell_type": "code",
   "execution_count": null,
   "metadata": {
    "id": "-IZ3t2qiHoOY"
   },
   "outputs": [],
   "source": [
    "f = lambda x: 0.5 * np.sum((A @ x - b) ** 2)\n",
    "F = lambda x: f(x) + lmbda * np.sum(np.abs(x))\n",
    "\n",
    "# derivative of f from matrix calculus\n",
    "df = lambda x: A.T @ (A @ x) - A.T @ b\n"
   ]
  },
  {
   "cell_type": "markdown",
   "metadata": {
    "id": "wjmesSGYH4YK"
   },
   "source": [
    "Plot the function"
   ]
  },
  {
   "cell_type": "code",
   "execution_count": null,
   "metadata": {
    "id": "NXdKkXicH8-8"
   },
   "outputs": [],
   "source": [
    "# this function has been prepared only for the visualization sake, no need to go through this but it renders some nice\n",
    "# graphics :)\n",
    "Fplot = lambda r1, r2: (r1 * A[0, 0] + r2 * A[0, 1] - b[0]) ** 2 + (r1 * A[1, 0] + r2 * A[1,1] - b[1]) ** 2 + lmbda * (np.abs(r1) + np.abs(r2))\n",
    "xx, yy = np.meshgrid(np.arange(-10, 10, 1), np.arange(-10, 10, 1))\n",
    "\n",
    "fig = plt.figure()\n",
    "ax = plt.axes(projection='3d')\n",
    "ax.plot_surface(xx, yy, Fplot(xx, yy), edgecolor=[0, 0, 1], alpha=0.5, facecolor=[0, 1, 1])"
   ]
  },
  {
   "cell_type": "markdown",
   "metadata": {
    "id": "NJ8eKBxUayEV"
   },
   "source": [
    "ISTA with backtracking\n",
    "----------------------------\n",
    "Parameters of ISTA"
   ]
  },
  {
   "cell_type": "code",
   "execution_count": null,
   "metadata": {
    "id": "WcqIs0rxayEW"
   },
   "outputs": [],
   "source": [
    "MAX_ITER = 1e3\n",
    "TOL_DIST_X = 1e-6\n",
    "# initial value for alpha\n",
    "alpha = 1\n",
    "# parameter for backtracking\n",
    "eta = 0.99"
   ]
  },
  {
   "cell_type": "markdown",
   "metadata": {
    "id": "5J3HwecVayEX"
   },
   "source": [
    "Initialization: test different inizializations, the function is convex, you always converge to the same solution"
   ]
  },
  {
   "cell_type": "code",
   "execution_count": null,
   "metadata": {
    "id": "otG86BH8ayEX"
   },
   "outputs": [],
   "source": [
    "x = np.array([-5, 10])\n",
    "\n",
    "grad_norm = 1e10\n",
    "distanceX = 1e10\n",
    "\n",
    "# initialize the list with all the estimates\n",
    "all_x = [x]\n",
    "x_past = x"
   ]
  },
  {
   "cell_type": "markdown",
   "metadata": {
    "id": "_t-ozDQvayEY"
   },
   "source": [
    "Main loop"
   ]
  },
  {
   "cell_type": "code",
   "execution_count": null,
   "metadata": {
    "id": "5a49h-zsayEY"
   },
   "outputs": [],
   "source": [
    "cnt = 0\n",
    "alpha_current = alpha\n",
    "while :\n",
    "\n",
    "    # compute the argument of the proximal operator\n",
    "#    x_current =\n",
    "\n",
    "    # perform soft thresholding of x\n",
    "#    x_current =\n",
    "\n",
    "    # iterate the backtracking procedure until the stopping criterion is met\n",
    "    while :\n",
    "      cnt = cnt + 1\n",
    "      # update alpha\n",
    "#        alpha_current =\n",
    "\n",
    "        # compute again x\n",
    "#        x_current =\n",
    "\n",
    "        # perform soft thresholding\n",
    "#        x_current =\n",
    "\n",
    "    # compute the stopping criteria\n",
    "#    distanceX =\n",
    "\n",
    "    # store the estimate\n",
    "#    all_x\n"
   ]
  },
  {
   "cell_type": "markdown",
   "metadata": {
    "id": "BNNKjaJmayEY"
   },
   "source": [
    "Plot all the estimates"
   ]
  },
  {
   "cell_type": "code",
   "execution_count": null,
   "metadata": {
    "id": "s3NrMKd3ayEZ"
   },
   "outputs": [],
   "source": [
    "# plot the new estimate\n",
    "xxplot = [x[0] for x in all_x]\n",
    "yyplot = [x[1] for x in all_x]\n",
    "zzplot = Fplot(np.array(xxplot), np.array(yyplot))\n",
    "\n",
    "fig = plt.figure(figsize=(10,10))\n",
    "ax = plt.axes(projection='3d')\n",
    "ax.plot_surface(xx, yy, Fplot(xx, yy), edgecolor=[0, 0, 1], alpha=0.5, facecolor=[0, 1, 1])\n",
    "ax.plot3D(xxplot, yyplot, zzplot, 'r-o')"
   ]
  },
  {
   "cell_type": "markdown",
   "metadata": {
    "id": "x2ZkuNZ_ayEa"
   },
   "source": [
    "Compare the number of iteration needed for convergence with backtracking with the number of iteration required using the optimal alpha"
   ]
  },
  {
   "cell_type": "code",
   "execution_count": null,
   "metadata": {
    "id": "yNFvIs7uayEa"
   },
   "outputs": [],
   "source": [
    "print(f'nr of iteration of ISTA with backtracking (before stopping criteria met): {cnt}\\n')\n",
    "print(f'Solution of ISTA: [{x_current[0]:.4f}, {x_current[1]:.4f}]\\n')\n",
    "print(f'Value of the functional: {F(x_current):.4f}\\n')"
   ]
  },
  {
   "cell_type": "markdown",
   "metadata": {
    "id": "4Zcr95AgayEb"
   },
   "source": [
    "FISTA\n",
    "-----\n",
    "Parameters of FISTA"
   ]
  },
  {
   "cell_type": "code",
   "execution_count": null,
   "metadata": {
    "id": "qd8R8ya6IIQ8"
   },
   "outputs": [],
   "source": [
    "MAX_ITER = 1e3\n",
    "TOL_DIST_X = 1e-6\n",
    "# set the optimal value for alpha\n",
    "# alpha ="
   ]
  },
  {
   "cell_type": "markdown",
   "metadata": {
    "id": "ZZXmb-rbISJb"
   },
   "source": [
    "Initialization: test different inizializations, the function is convex, you always converge to the same solution"
   ]
  },
  {
   "cell_type": "code",
   "execution_count": null,
   "metadata": {
    "id": "Uelx1xRoIXh_"
   },
   "outputs": [],
   "source": [
    "# initialize x\n",
    "# x =\n",
    "\n",
    "# initialize y\n",
    "# y =\n",
    "\n",
    "# initialize gamma\n",
    "# gamma =\n",
    "\n",
    "grad_norm = 1e10\n",
    "distanceX = 1e10\n",
    "\n",
    "# initialize the list with all the estimates\n",
    "all_x = [x]\n",
    "\n"
   ]
  },
  {
   "cell_type": "markdown",
   "metadata": {
    "id": "8dlJ-5peIbf6"
   },
   "source": [
    "Main loop"
   ]
  },
  {
   "cell_type": "code",
   "execution_count": null,
   "metadata": {
    "id": "1_V3FeuvIasS"
   },
   "outputs": [],
   "source": [
    "cnt = 0\n",
    "while :\n",
    "    # compute the argument of the proximal operator\n",
    "\n",
    "    # perform soft thresholding of x\n",
    "\n",
    "    # update gamma\n",
    "\n",
    "    # update y\n",
    "\n",
    "    # compute the stopping criteria\n",
    "\n",
    "    # store the estimate\n"
   ]
  },
  {
   "cell_type": "markdown",
   "metadata": {
    "id": "9wG7LahlIjoJ"
   },
   "source": [
    "Plot all the estimates"
   ]
  },
  {
   "cell_type": "code",
   "execution_count": null,
   "metadata": {
    "id": "n0JPj1VPIkkR"
   },
   "outputs": [],
   "source": [
    "# plot the new estimate\n",
    "xxplot = [x[0] for x in all_x]\n",
    "yyplot = [x[1] for x in all_x]\n",
    "zzplot = Fplot(np.array(xxplot), np.array(yyplot))\n",
    "\n",
    "fig = plt.figure(figsize=(10,10))\n",
    "ax = plt.axes(projection='3d')\n",
    "ax.plot_surface(xx, yy, Fplot(xx, yy), edgecolor=[0, 0, 1], alpha=0.5, facecolor=[0, 1, 1])\n",
    "ax.plot3D(xxplot, yyplot, zzplot, 'r-o')"
   ]
  },
  {
   "cell_type": "code",
   "execution_count": null,
   "metadata": {
    "id": "Aug3nCgh2Tdg"
   },
   "outputs": [],
   "source": [
    "print(f'nr of iteration of FISTA (before stopping criteria met): {cnt}\\n')\n",
    "print(f'Solution of FISTA: [{x_current[0]:.4f}, {x_current[1]:.4f}]\\n')\n",
    "print(f'Value of the functional: {F(x_current):.4f}\\n')"
   ]
  }
 ],
 "metadata": {
  "colab": {
   "provenance": []
  },
  "kernelspec": {
   "display_name": "Python 3",
   "name": "python3"
  },
  "language_info": {
   "name": "python"
  }
 },
 "nbformat": 4,
 "nbformat_minor": 0
}
