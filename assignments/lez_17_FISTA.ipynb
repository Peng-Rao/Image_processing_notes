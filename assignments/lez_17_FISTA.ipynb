{
 "cells": [
  {
   "cell_type": "code",
   "execution_count": null,
   "metadata": {
    "id": "pLAA3Lj3GLtp"
   },
   "outputs": [],
   "source": [
    "import numpy as np\n",
    "from matplotlib import pyplot as plt"
   ]
  },
  {
   "cell_type": "markdown",
   "metadata": {
    "id": "Be43ir2EHcSE"
   },
   "source": [
    "Define the problem parameters\n"
   ]
  },
  {
   "cell_type": "code",
   "execution_count": null,
   "metadata": {
    "id": "8Sh4rbXeHh_E"
   },
   "outputs": [],
   "source": [
    "A = np.array([[1, 3], [3, 1]])  # low dimensions to plot it, you can test larger sizes\n",
    "b = np.array([-1, 2])\n",
    "\n",
    "lmbda = 0.5"
   ]
  },
  {
   "cell_type": "markdown",
   "metadata": {
    "id": "qjOQIg-ZHpTc"
   },
   "source": [
    "The function to be minimized is $\\frac{1}{2}\\|Ax-b\\|_2^2 + \\lambda \\|x\\|_1$\n"
   ]
  },
  {
   "cell_type": "code",
   "execution_count": null,
   "metadata": {
    "id": "-IZ3t2qiHoOY"
   },
   "outputs": [],
   "source": [
    "f = lambda x: 0.5 * np.sum((A @ x - b) ** 2)\n",
    "F = lambda x: f(x) + lmbda * np.sum(np.abs(x))\n",
    "\n",
    "# derivative of f from matrix calculus\n",
    "df = lambda x: A.T @ (A @ x) - A.T @ b"
   ]
  },
  {
   "cell_type": "markdown",
   "metadata": {
    "id": "wjmesSGYH4YK"
   },
   "source": [
    "Plot the function\n"
   ]
  },
  {
   "cell_type": "code",
   "execution_count": null,
   "metadata": {
    "id": "NXdKkXicH8-8"
   },
   "outputs": [],
   "source": [
    "# this function has been prepared only for the visualization sake, no need to go through this but it renders some nice\n",
    "# graphics :)\n",
    "Fplot = (\n",
    "    lambda r1, r2: (r1 * A[0, 0] + r2 * A[0, 1] - b[0]) ** 2\n",
    "    + (r1 * A[1, 0] + r2 * A[1, 1] - b[1]) ** 2\n",
    "    + lmbda * (np.abs(r1) + np.abs(r2))\n",
    ")\n",
    "xx, yy = np.meshgrid(np.arange(-10, 10, 1), np.arange(-10, 10, 1))\n",
    "\n",
    "fig = plt.figure()\n",
    "ax = plt.axes(projection=\"3d\")\n",
    "ax.plot_surface(\n",
    "    xx, yy, Fplot(xx, yy), edgecolor=[0, 0, 1], alpha=0.5, facecolor=[0, 1, 1]\n",
    ")"
   ]
  },
  {
   "cell_type": "markdown",
   "metadata": {
    "id": "NJ8eKBxUayEV"
   },
   "source": [
    "## ISTA with backtracking\n",
    "\n",
    "Parameters of ISTA\n"
   ]
  },
  {
   "cell_type": "code",
   "execution_count": null,
   "metadata": {
    "id": "WcqIs0rxayEW"
   },
   "outputs": [],
   "source": [
    "MAX_ITER = 1e3\n",
    "TOL_DIST_X = 1e-6\n",
    "# initial value for alpha\n",
    "alpha = 1\n",
    "# parameter for backtracking\n",
    "eta = 0.99"
   ]
  },
  {
   "cell_type": "markdown",
   "metadata": {
    "id": "5J3HwecVayEX"
   },
   "source": [
    "Initialization: test different inizializations, the function is convex, you always converge to the same solution\n"
   ]
  },
  {
   "cell_type": "code",
   "execution_count": null,
   "metadata": {
    "id": "otG86BH8ayEX"
   },
   "outputs": [],
   "source": [
    "x = np.array([-5, 10])\n",
    "\n",
    "grad_norm = 1e10\n",
    "distanceX = 1e10\n",
    "\n",
    "# initialize the list with all the estimates\n",
    "all_x = [x]\n",
    "x_past = x"
   ]
  },
  {
   "cell_type": "markdown",
   "metadata": {
    "id": "_t-ozDQvayEY"
   },
   "source": [
    "Main loop\n"
   ]
  },
  {
   "cell_type": "code",
   "execution_count": null,
   "metadata": {
    "id": "5a49h-zsayEY"
   },
   "outputs": [],
   "source": [
    "cnt = 0\n",
    "alpha_current = alpha\n",
    "while cnt < MAX_ITER and distanceX > TOL_DIST_X:\n",
    "    # store previous x for distance calculation\n",
    "    x_prev = x.copy()\n",
    "\n",
    "    # compute the argument of the proximal operator\n",
    "    x_current = x - alpha_current * df(x)\n",
    "\n",
    "    # perform soft thresholding of x\n",
    "    x_current = np.sign(x_current) * np.maximum(\n",
    "        np.abs(x_current) - alpha_current * lmbda, 0\n",
    "    )\n",
    "\n",
    "    # iterate the backtracking procedure until the stopping criterion is met\n",
    "    while (\n",
    "        f(x_current)\n",
    "        > f(x)\n",
    "        + df(x).T @ (x_current - x)\n",
    "        + (1 / (2 * alpha_current)) * np.linalg.norm(x_current - x) ** 2\n",
    "    ):\n",
    "        cnt = cnt + 1\n",
    "        # update alpha\n",
    "        alpha_current = eta * alpha_current\n",
    "\n",
    "        # compute again x\n",
    "        x_current = x - alpha_current * df(x)\n",
    "\n",
    "        # perform soft thresholding\n",
    "        x_current = np.sign(x_current) * np.maximum(\n",
    "            np.abs(x_current) - alpha_current * lmbda, 0\n",
    "        )\n",
    "\n",
    "    # update x\n",
    "    x = x_current.copy()\n",
    "\n",
    "    # compute the stopping criteria\n",
    "    distanceX = np.linalg.norm(x - x_prev)\n",
    "\n",
    "    # store the estimate\n",
    "    all_x.append(x.copy())\n",
    "\n",
    "    cnt += 1"
   ]
  },
  {
   "cell_type": "markdown",
   "metadata": {
    "id": "BNNKjaJmayEY"
   },
   "source": [
    "Plot all the estimates\n"
   ]
  },
  {
   "cell_type": "code",
   "execution_count": null,
   "metadata": {
    "id": "s3NrMKd3ayEZ"
   },
   "outputs": [],
   "source": [
    "# plot the new estimate\n",
    "xxplot = [x[0] for x in all_x]\n",
    "yyplot = [x[1] for x in all_x]\n",
    "zzplot = Fplot(np.array(xxplot), np.array(yyplot))\n",
    "\n",
    "fig = plt.figure(figsize=(10, 10))\n",
    "ax = plt.axes(projection=\"3d\")\n",
    "ax.plot_surface(\n",
    "    xx, yy, Fplot(xx, yy), edgecolor=[0, 0, 1], alpha=0.5, facecolor=[0, 1, 1]\n",
    ")\n",
    "ax.plot3D(xxplot, yyplot, zzplot, \"r-o\")"
   ]
  },
  {
   "cell_type": "markdown",
   "metadata": {
    "id": "x2ZkuNZ_ayEa"
   },
   "source": [
    "Compare the number of iteration needed for convergence with backtracking with the number of iteration required using the optimal alpha\n"
   ]
  },
  {
   "cell_type": "code",
   "execution_count": null,
   "metadata": {
    "id": "yNFvIs7uayEa"
   },
   "outputs": [],
   "source": [
    "print(\n",
    "    f\"nr of iteration of ISTA with backtracking (before stopping criteria met): {cnt}\\n\"\n",
    ")\n",
    "print(f\"Solution of ISTA: [{x_current[0]:.4f}, {x_current[1]:.4f}]\\n\")\n",
    "print(f\"Value of the functional: {F(x_current):.4f}\\n\")"
   ]
  },
  {
   "cell_type": "markdown",
   "metadata": {
    "id": "4Zcr95AgayEb"
   },
   "source": [
    "## FISTA\n",
    "\n",
    "Parameters of FISTA\n"
   ]
  },
  {
   "cell_type": "code",
   "execution_count": null,
   "metadata": {
    "id": "qd8R8ya6IIQ8"
   },
   "outputs": [],
   "source": [
    "MAX_ITER = 1e3\n",
    "TOL_DIST_X = 1e-6\n",
    "# set the optimal value for alpha\n",
    "alpha = 1 / np.max(np.linalg.eigvals(A.T @ A))"
   ]
  },
  {
   "cell_type": "markdown",
   "metadata": {
    "id": "ZZXmb-rbISJb"
   },
   "source": [
    "Initialization: test different inizializations, the function is convex, you always converge to the same solution\n"
   ]
  },
  {
   "cell_type": "code",
   "execution_count": null,
   "metadata": {
    "id": "Uelx1xRoIXh_"
   },
   "outputs": [],
   "source": [
    "# initialize x\n",
    "x = np.array([-5, 10])\n",
    "\n",
    "# initialize y\n",
    "y = x.copy()\n",
    "\n",
    "# initialize gamma\n",
    "gamma = 1\n",
    "\n",
    "grad_norm = 1e10\n",
    "distanceX = 1e10\n",
    "\n",
    "# initialize the list with all the estimates\n",
    "all_x = [x]"
   ]
  },
  {
   "cell_type": "markdown",
   "metadata": {
    "id": "8dlJ-5peIbf6"
   },
   "source": [
    "Main loop\n"
   ]
  },
  {
   "cell_type": "code",
   "execution_count": null,
   "metadata": {
    "id": "1_V3FeuvIasS"
   },
   "outputs": [],
   "source": [
    "cnt = 0\n",
    "while cnt < MAX_ITER and distanceX > TOL_DIST_X:\n",
    "    # store previous x for distance calculation\n",
    "    x_prev = x.copy()\n",
    "\n",
    "    # compute the argument of the proximal operator\n",
    "    x_current = y - alpha * df(y)\n",
    "\n",
    "    # perform soft thresholding of x\n",
    "    x_current = np.sign(x_current) * np.maximum(np.abs(x_current) - alpha * lmbda, 0)\n",
    "\n",
    "    # update gamma\n",
    "    gamma_new = (1 + np.sqrt(1 + 4 * gamma**2)) / 2\n",
    "\n",
    "    # update y\n",
    "    y = x_current + ((gamma - 1) / gamma_new) * (x_current - x)\n",
    "\n",
    "    # update x and gamma for next iteration\n",
    "    x = x_current.copy()\n",
    "    gamma = gamma_new\n",
    "\n",
    "    # compute the stopping criteria\n",
    "    distanceX = np.linalg.norm(x - x_prev)\n",
    "\n",
    "    # store the estimate\n",
    "    all_x.append(x.copy())\n",
    "\n",
    "    cnt += 1"
   ]
  },
  {
   "cell_type": "markdown",
   "metadata": {
    "id": "9wG7LahlIjoJ"
   },
   "source": [
    "Plot all the estimates\n"
   ]
  },
  {
   "cell_type": "code",
   "execution_count": null,
   "metadata": {
    "id": "n0JPj1VPIkkR"
   },
   "outputs": [],
   "source": [
    "# plot the new estimate\n",
    "xxplot = [x[0] for x in all_x]\n",
    "yyplot = [x[1] for x in all_x]\n",
    "zzplot = Fplot(np.array(xxplot), np.array(yyplot))\n",
    "\n",
    "fig = plt.figure(figsize=(10, 10))\n",
    "ax = plt.axes(projection=\"3d\")\n",
    "ax.plot_surface(\n",
    "    xx, yy, Fplot(xx, yy), edgecolor=[0, 0, 1], alpha=0.5, facecolor=[0, 1, 1]\n",
    ")\n",
    "ax.plot3D(xxplot, yyplot, zzplot, \"r-o\")"
   ]
  },
  {
   "cell_type": "code",
   "execution_count": null,
   "metadata": {
    "id": "Aug3nCgh2Tdg"
   },
   "outputs": [],
   "source": [
    "print(f\"nr of iteration of FISTA (before stopping criteria met): {cnt}\\n\")\n",
    "print(f\"Solution of FISTA: [{x_current[0]:.4f}, {x_current[1]:.4f}]\\n\")\n",
    "print(f\"Value of the functional: {F(x_current):.4f}\\n\")"
   ]
  }
 ],
 "metadata": {
  "colab": {
   "provenance": []
  },
  "kernelspec": {
   "display_name": "Image_processing_notes",
   "language": "python",
   "name": "python3"
  },
  "language_info": {
   "codemirror_mode": {
    "name": "ipython",
    "version": 3
   },
   "file_extension": ".py",
   "mimetype": "text/x-python",
   "name": "python",
   "nbconvert_exporter": "python",
   "pygments_lexer": "ipython3",
   "version": "3.13.4"
  }
 },
 "nbformat": 4,
 "nbformat_minor": 0
}
